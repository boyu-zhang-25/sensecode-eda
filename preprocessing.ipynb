{
 "cells": [
  {
   "cell_type": "code",
   "execution_count": 1,
   "id": "28c65ff1-ba49-41c7-8f89-92c2ff9df852",
   "metadata": {},
   "outputs": [],
   "source": [
    "import pandas as pd\n",
    "import numpy as np"
   ]
  },
  {
   "cell_type": "code",
   "execution_count": 2,
   "id": "b4d02679-03dc-4b3c-8a7f-33cc7004fbc7",
   "metadata": {},
   "outputs": [],
   "source": [
    "eda_filepath = '/media/bayesian-posterior/sdc/sensecode_data/SP1_eda_worn_left.h5'"
   ]
  },
  {
   "cell_type": "code",
   "execution_count": 3,
   "id": "8f2d752f-253d-4fd9-9ea6-bf3214162969",
   "metadata": {},
   "outputs": [],
   "source": [
    "eda_from_file = pd.read_hdf(eda_filepath)"
   ]
  },
  {
   "cell_type": "code",
   "execution_count": 4,
   "id": "f0af90f3-dd99-4c0d-b917-def783ba1b57",
   "metadata": {},
   "outputs": [
    {
     "data": {
      "text/html": [
       "<div>\n",
       "<style scoped>\n",
       "    .dataframe tbody tr th:only-of-type {\n",
       "        vertical-align: middle;\n",
       "    }\n",
       "\n",
       "    .dataframe tbody tr th {\n",
       "        vertical-align: top;\n",
       "    }\n",
       "\n",
       "    .dataframe thead th {\n",
       "        text-align: right;\n",
       "    }\n",
       "</style>\n",
       "<table border=\"1\" class=\"dataframe\">\n",
       "  <thead>\n",
       "    <tr style=\"text-align: right;\">\n",
       "      <th></th>\n",
       "      <th>eda</th>\n",
       "    </tr>\n",
       "  </thead>\n",
       "  <tbody>\n",
       "    <tr>\n",
       "      <th>2020-01-28 14:51:33-05:00</th>\n",
       "      <td>0.152387</td>\n",
       "    </tr>\n",
       "    <tr>\n",
       "      <th>2020-01-28 14:51:33.250000-05:00</th>\n",
       "      <td>0.152387</td>\n",
       "    </tr>\n",
       "    <tr>\n",
       "      <th>2020-01-28 14:51:33.500000-05:00</th>\n",
       "      <td>0.152387</td>\n",
       "    </tr>\n",
       "    <tr>\n",
       "      <th>2020-01-28 14:51:33.750000-05:00</th>\n",
       "      <td>0.152387</td>\n",
       "    </tr>\n",
       "    <tr>\n",
       "      <th>2020-01-28 14:51:34-05:00</th>\n",
       "      <td>0.152387</td>\n",
       "    </tr>\n",
       "    <tr>\n",
       "      <th>...</th>\n",
       "      <td>...</td>\n",
       "    </tr>\n",
       "    <tr>\n",
       "      <th>2020-04-21 21:04:50.750000-04:00</th>\n",
       "      <td>0.169024</td>\n",
       "    </tr>\n",
       "    <tr>\n",
       "      <th>2020-04-21 21:04:51-04:00</th>\n",
       "      <td>0.169024</td>\n",
       "    </tr>\n",
       "    <tr>\n",
       "      <th>2020-04-21 21:04:51.250000-04:00</th>\n",
       "      <td>0.169024</td>\n",
       "    </tr>\n",
       "    <tr>\n",
       "      <th>2020-04-21 21:04:51.500000-04:00</th>\n",
       "      <td>0.167743</td>\n",
       "    </tr>\n",
       "    <tr>\n",
       "      <th>2020-04-21 21:04:51.750000-04:00</th>\n",
       "      <td>0.169024</td>\n",
       "    </tr>\n",
       "  </tbody>\n",
       "</table>\n",
       "<p>22509440 rows × 1 columns</p>\n",
       "</div>"
      ],
      "text/plain": [
       "                                       eda\n",
       "2020-01-28 14:51:33-05:00         0.152387\n",
       "2020-01-28 14:51:33.250000-05:00  0.152387\n",
       "2020-01-28 14:51:33.500000-05:00  0.152387\n",
       "2020-01-28 14:51:33.750000-05:00  0.152387\n",
       "2020-01-28 14:51:34-05:00         0.152387\n",
       "...                                    ...\n",
       "2020-04-21 21:04:50.750000-04:00  0.169024\n",
       "2020-04-21 21:04:51-04:00         0.169024\n",
       "2020-04-21 21:04:51.250000-04:00  0.169024\n",
       "2020-04-21 21:04:51.500000-04:00  0.167743\n",
       "2020-04-21 21:04:51.750000-04:00  0.169024\n",
       "\n",
       "[22509440 rows x 1 columns]"
      ]
     },
     "execution_count": 4,
     "metadata": {},
     "output_type": "execute_result"
    }
   ],
   "source": [
    "eda_from_file"
   ]
  },
  {
   "cell_type": "code",
   "execution_count": null,
   "id": "fbb234e1-cc75-4827-9ee8-fbf860fb24cd",
   "metadata": {},
   "outputs": [],
   "source": []
  }
 ],
 "metadata": {
  "kernelspec": {
   "display_name": "sensecode",
   "language": "python",
   "name": "sensecode"
  },
  "language_info": {
   "codemirror_mode": {
    "name": "ipython",
    "version": 3
   },
   "file_extension": ".py",
   "mimetype": "text/x-python",
   "name": "python",
   "nbconvert_exporter": "python",
   "pygments_lexer": "ipython3",
   "version": "3.11.0"
  }
 },
 "nbformat": 4,
 "nbformat_minor": 5
}
