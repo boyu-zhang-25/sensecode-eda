{
 "cells": [
  {
   "cell_type": "code",
   "execution_count": null,
   "id": "28c65ff1-ba49-41c7-8f89-92c2ff9df852",
   "metadata": {},
   "outputs": [],
   "source": [
    "import pandas as pd\n",
    "import numpy as np\n",
    "import matplotlib.pyplot as plt\n",
    "import matplotlib.dates as mdates\n",
    "import seaborn as sns\n",
    "from matplotlib.colors import LogNorm, Normalize\n",
    "import os\n",
    "from datetime import datetime\n",
    "import matplotlib.dates as mdates\n",
    "from scipy.stats import zscore\n"
   ]
  },
  {
   "cell_type": "code",
   "execution_count": null,
   "id": "1ca07864-8260-41ce-9d4f-595fcbd42500",
   "metadata": {},
   "outputs": [],
   "source": [
    "FS = 4 # E4 sampling rate\n",
    "\n",
    "DATA_FOLDER_PATH = '/media/bayesian-posterior/sdc/sensecode_data/cwt_eda_24hr/'\n",
    "DATA_FOLDER = os.fsencode(DATA_FOLDER_PATH)\n",
    "\n",
    "# DAYS_ARRAY = np.asarray([0.5, 1, 3, 5, 7, 9, 11, 13, 15, 17, 19, 21, 23, 25, 27, 29, 31])\n",
    "DAYS_ARRAY = np.asarray([1])\n",
    "FREQ_ARRAY = 1 / (DAYS_ARRAY * 24 * 60 * 60) # for morlet\n",
    "FREQ_NAMES = [\"{:.1f}\".format(day)+' Day(s)' for day in DAYS_ARRAY]\n",
    "\n",
    "PANDAS_RESAMPLE_RATE = \"{:.2f}\".format(1/4)+'S' # find missing samples (datetime)\n",
    "PANDAS_RESAMPLE_RATE"
   ]
  },
  {
   "cell_type": "code",
   "execution_count": null,
   "id": "cbc867e1-411e-4fca-8ac8-0461de00adf9",
   "metadata": {},
   "outputs": [],
   "source": [
    "HDRS_17_CUTOFF = 20\n",
    "HDRS_24_CUTOFF = 10\n",
    "RCI_HDRS_17 = 6\n",
    "\n",
    "LABEL_FOLDER_PATH = 'labels/'"
   ]
  },
  {
   "cell_type": "code",
   "execution_count": null,
   "id": "3ae3671a-3161-45a2-b0e8-8d1b93bb23b8",
   "metadata": {},
   "outputs": [],
   "source": [
    "def find_sig_HDRS_change(HDRS_array : np.ndarray, \n",
    "                         RCI = RCI_HDRS_17, \n",
    "                         HDRS_cutoff = HDRS_17_CUTOFF):\n",
    "    \n",
    "    # return np.asarray([True if x/HDRS_array[0] <= 0.5 else False for x in HDRS_array])\n",
    "        \n",
    "    depressed_week = HDRS_array >= HDRS_cutoff\n",
    "    # worsened_week = np.asarray([True if x - HDRS_array[0] > RCI_HDRS_17 else False for x in HDRS_array])\n",
    "    return depressed_week\n",
    "    # worsened_week =  np.diff(HDRS_array) > RCI_HDRS_17\n",
    "    # worsened_week = np.insert(worsened_week, 0, False)\n",
    "    \n",
    "    # return worsened_week\n",
    "\n",
    "#     assert len(depressed_week) == len(worsened_week)\n",
    "    \n",
    "    # return np.logical_or(depressed_week, worsened_week)"
   ]
  },
  {
   "cell_type": "code",
   "execution_count": null,
   "id": "0eb2d9c6-d7af-40ba-a9be-bac79b3a2459",
   "metadata": {},
   "outputs": [],
   "source": [
    "def plot_morlet(df_eda, \n",
    "                freq_names, \n",
    "                tick_freq, \n",
    "                subject,\n",
    "                HDRS_array,\n",
    "                sig_change_dates): # dates with significant deterioration\n",
    "    \n",
    "    if len(sig_change_dates) > 0:\n",
    "        resampled_df = df_eda[freq_names].resample(tick_freq).mean()\n",
    "        cwtm = resampled_df.to_numpy().T # (len(freq_list), len(t))\n",
    "\n",
    "        tick_freq_dict = {'T':60*24*7, 'H':24*7, 'D':7, 'W':1}\n",
    "        to_second_dict = {'T':60, 'H':60*60, 'D':24*60*60, 'W':7*24*60*60}\n",
    "        xtick_freq = tick_freq_dict[tick_freq]\n",
    "\n",
    "        fig, ax = plt.subplots(figsize=(15, 1)) \n",
    "        t = resampled_df.index.to_pydatetime()\n",
    "        \n",
    "        min_vec = np.min(cwtm, axis = 1)[:, np.newaxis]\n",
    "        max_vec = np.max(cwtm, axis = 1)[:, np.newaxis]\n",
    "        sns.heatmap(cwtm,\n",
    "                    norm=LogNorm(vmin=cwtm.min(), vmax=cwtm.max()),\n",
    "                    cmap=\"Blues\",\n",
    "                    ax=ax)\n",
    "        \n",
    "        E4_start_date = t[0].replace(tzinfo=None)\n",
    "        E4_end_date = t[-1].replace(tzinfo=None)\n",
    "        \n",
    "        for idx, date in sig_change_dates.items():\n",
    "            \n",
    "            if date[0].isdigit():\n",
    "                date = datetime.strptime(date, '%Y-%m-%d %H:%M:%S')\n",
    "                if date >= E4_start_date and date <= E4_end_date:\n",
    "                    position = int((date - E4_start_date).total_seconds()/to_second_dict[tick_freq] + 12*60*60/to_second_dict[tick_freq]) # move the tick to the middle\n",
    "                    # vline_label = date.strftime(\"%Y-%m-%d\") + ' HDRS: ' + str(HDRS_array[idx])\n",
    "                    vline_label = str(HDRS_array[idx])\n",
    "                    \n",
    "                    if HDRS_array[idx] >= HDRS_17_CUTOFF:\n",
    "                        ax.axvline(position, color = 'red', alpha = 0.7)\n",
    "                    else:\n",
    "                        ax.axvline(position, color = 'green', alpha = 0.7)\n",
    "                    ax.text(position, 0, vline_label)\n",
    "        # plt.legend(loc=1)\n",
    "        \n",
    "\n",
    "        ax.set_xticks(np.arange(len(t))[::xtick_freq], [xt.strftime('%Y-%m-%d') for xt in t[::xtick_freq]], rotation='vertical')\n",
    "        ax.set_yticks(np.arange(len(freq_names))+0.5, freq_names, rotation='horizontal')\n",
    "        ax.set_title(subject, y = 1.1)"
   ]
  },
  {
   "cell_type": "code",
   "execution_count": null,
   "id": "d91ddd97-e7c7-42fe-8122-ea5df01e0ad3",
   "metadata": {
    "tags": []
   },
   "outputs": [],
   "source": [
    "HDRS_variant = 'hamd_17_score'\n",
    "\n",
    "for file in os.listdir(DATA_FOLDER):\n",
    "    \n",
    "    filename = os.fsdecode(file)\n",
    "    \n",
    "    if filename.endswith(\"cwt.h5\"):\n",
    "        \n",
    "        subject = filename.split('_')[0]\n",
    "        eda_filepath = DATA_FOLDER_PATH+filename\n",
    "        retrieved = pd.read_hdf(eda_filepath, 'df')\n",
    "        \n",
    "        HDRS_file_name = LABEL_FOLDER_PATH + subject + '_HDRS.csv'\n",
    "        HDRS_df = pd.read_csv(HDRS_file_name)\n",
    "        \n",
    "        HDRS_array = HDRS_df[HDRS_variant].to_numpy()        \n",
    "        # sig_change_index = find_sig_HDRS_change(HDRS_array, \n",
    "        #                  RCI = RCI_HDRS_17, \n",
    "        #                  HDRS_cutoff = HDRS_17_CUTOFF)\n",
    "                \n",
    "        plot_morlet(df_eda = retrieved, \n",
    "                    freq_names = FREQ_NAMES, \n",
    "                    tick_freq = 'H', \n",
    "                    subject = subject, \n",
    "                    HDRS_array = HDRS_array,\n",
    "                    sig_change_dates = HDRS_df['Date']) # plot all scores\n",
    "        \n"
   ]
  },
  {
   "cell_type": "code",
   "execution_count": null,
   "id": "06f92bd3-c567-499b-93da-4e1c8e2263ae",
   "metadata": {},
   "outputs": [],
   "source": []
  },
  {
   "cell_type": "code",
   "execution_count": null,
   "id": "4e4e2ace-10ec-47a3-abfa-b8ff50f55dc5",
   "metadata": {},
   "outputs": [],
   "source": []
  }
 ],
 "metadata": {
  "kernelspec": {
   "display_name": "sensecode",
   "language": "python",
   "name": "sensecode"
  },
  "language_info": {
   "codemirror_mode": {
    "name": "ipython",
    "version": 3
   },
   "file_extension": ".py",
   "mimetype": "text/x-python",
   "name": "python",
   "nbconvert_exporter": "python",
   "pygments_lexer": "ipython3",
   "version": "3.11.0"
  }
 },
 "nbformat": 4,
 "nbformat_minor": 5
}
