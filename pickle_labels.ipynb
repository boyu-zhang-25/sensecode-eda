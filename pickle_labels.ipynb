{
 "cells": [
  {
   "cell_type": "code",
   "execution_count": 1,
   "id": "83f1019c-a09b-4b64-af3c-ea0b298f47ef",
   "metadata": {},
   "outputs": [],
   "source": [
    "import pandas as pd\n",
    "import numpy as np\n",
    "import pickle \n"
   ]
  },
  {
   "cell_type": "code",
   "execution_count": 2,
   "id": "8ac26c7e-4b36-4707-bed5-14c58fbef130",
   "metadata": {},
   "outputs": [],
   "source": [
    "SUBJECT_LIST = ['001', '002', '003', '005', '006', '011', '012', '015', '016', '021','022', '024', '027', '028', '029',  '030', '031', '034', '033', '036', '040', '041', '043', '044', '045', '047', '055', '059', '065', '061', '060', '070', '069', '071', '072']\n",
    "subject_hdrs_17_dict = {}\n",
    "subject_vist_date_dict = {}\n",
    "subject_hdrs24_dict = {}\n"
   ]
  },
  {
   "cell_type": "code",
   "execution_count": 3,
   "id": "8c278fed-69e4-4dd9-8cbb-cf98de185ca1",
   "metadata": {},
   "outputs": [],
   "source": [
    "xls = pd.ExcelFile('/home/bayesian-posterior/Desktop/sensecode-eda/HDRS Scores 12.20.22.xlsx')\n",
    "hdrs_df = pd.read_excel(xls, 'SensorsBasedCharacte-AllSubject')\n",
    "date_df = pd.read_excel(xls, 'Visit Dates')\n",
    "\n",
    "hdrs_df['record_id'] = hdrs_df['record_id'].apply(lambda x : x.split('-')[0])\n",
    "date_df['Record ID'] = date_df['Record ID'].apply(lambda x : x.split('-')[0])\n",
    "\n",
    "grouped_hdrs_df = hdrs_df.groupby('record_id')\n",
    "grouped_date_df = date_df.groupby('Record ID')\n"
   ]
  },
  {
   "cell_type": "code",
   "execution_count": 4,
   "id": "98d3d6a4-9ba1-4c77-b42a-b3994b612d8f",
   "metadata": {},
   "outputs": [
    {
     "name": "stdout",
     "output_type": "stream",
     "text": [
      "001\n",
      "002\n",
      "003\n",
      "005\n",
      "006\n",
      "011\n",
      "012\n",
      "015\n",
      "016\n",
      "021\n",
      "022\n",
      "024\n",
      "027\n",
      "028\n",
      "029\n",
      "030\n",
      "031\n",
      "034\n",
      "033\n",
      "036\n",
      "040\n",
      "041\n",
      "043\n",
      "044\n",
      "045\n",
      "047\n",
      "055\n",
      "059\n",
      "065\n",
      "061\n",
      "060\n",
      "070\n",
      "069\n",
      "071\n",
      "072\n"
     ]
    }
   ],
   "source": [
    "for subject in SUBJECT_LIST:\n",
    "    \n",
    "    print(subject)\n",
    "    hdrs_17 = grouped_hdrs_df['hamd_17_score'].get_group(subject).to_numpy()\n",
    "    hdrs_24 = grouped_hdrs_df['hamd_score'].get_group(subject).to_numpy()\n",
    "    visit_dates = grouped_date_df['Date'].get_group(subject).values.tolist()\n",
    "    \n",
    "    new_subject_name = 'SP'+str(int(subject))\n",
    "    subject_hdrs_17_dict[new_subject_name] = hdrs_17\n",
    "    subject_vist_date_dict[new_subject_name] = visit_dates\n",
    "    subject_hdrs24_dict[new_subject_name] = hdrs_24\n",
    "    \n",
    "    # print(len(hdrs_17), len(visit_dates), hdrs_17, visit_dates)\n",
    "    # assert len(hdrs_17) == len(visit_dates)"
   ]
  },
  {
   "cell_type": "code",
   "execution_count": 5,
   "id": "93fbdcd5-d091-438e-82f3-c16262c693fa",
   "metadata": {
    "tags": []
   },
   "outputs": [
    {
     "name": "stdout",
     "output_type": "stream",
     "text": [
      "{'SP1': array([nan, 10., 16., 16., 20., 22., 19., 18., 16., 15., 21., 22., 19.,\n",
      "       18.]), 'SP2': array([nan, 13., 22.,  7., 21., 15., 18., 20., 24., 15., 24., 19., 20.,\n",
      "       22.]), 'SP3': array([nan, 26., 26., 19., 26., 27., 25., 27., 35., 32., 29., 24., 28.]), 'SP5': array([nan, 10.,  6.,  6.,  8.,  9.,  9.,  5.,  4.,  4.,  3.,  6.,  4.,\n",
      "        5.]), 'SP6': array([nan,  8.,  9.,  7.,  4.,  6.,  4., 11.,  3.,  1.,  1., 10.,  1.,\n",
      "       10.]), 'SP11': array([18., 21., 18., 24., 23., 19., 15., 12.,  9., 10.,  8.,  8.,  7.,\n",
      "        4.]), 'SP12': array([23., 13., 15., 25., 16., 17., 14., 18., 17., 16., 15., 17., 17.,\n",
      "       15.]), 'SP15': array([17., 16., 18., 25., 21., 11., 16., 24., 18., 21., 17., 25.,  5.,\n",
      "       13.]), 'SP16': array([11., 17., 15.,  9., 13.,  8.,  5.,  8., 11.,  8.,  5.,  1.,  5.,\n",
      "       10.]), 'SP21': array([18., 10., 12., 10., 10.,  8., 10., 10.,  3.,  5.,  3.,  4.,  2.,\n",
      "        2.]), 'SP22': array([18., 18., 20., 17., 16., 16., 12., 13., 16., 10., 13., 11.,  7.,\n",
      "       12.]), 'SP24': array([14., 18., 16., 10., 17., 21., 18., 17., 12.,  9., 18., 11.,  4.,\n",
      "        2.]), 'SP27': array([16.,  6.,  8.,  6.,  8.,  5.,  9., 12.,  0., 10.,  7.,  7.,  7.,\n",
      "        7.]), 'SP28': array([31., 22., 23., 26., 24., 28., 25., 22., 21., 18., 22., 18., 20.]), 'SP29': array([16., 19., 16., 16., 16., 13., 18., 13., 12., 15., 14., 11., 11.,\n",
      "       12.]), 'SP30': array([16., 17., 13.,  9.,  9., 12., 10.,  9., 16., 15.,  5.,  5.,  5.,\n",
      "       10.]), 'SP31': array([14., 12., 14., 15., 10., 11., 11., 12., 10.,  6., 11.,  4.,  1.,\n",
      "        1.]), 'SP34': array([14., 14., 13., 16., 14., 14., 15., 15., 15., 19., 10.,  9., 19.,\n",
      "       15.]), 'SP33': array([10., 11., 10., 13.,  8.,  9.,  9., 13.,  8.,  9.,  9.,  6.,  4.,\n",
      "        2.]), 'SP36': array([15., 20., 23., 19., 21., 24., 15., 17., 21., 20., 18.]), 'SP40': array([21.,  7.,  3.,  5.,  3.,  4.,  5.,  4.,  7.,  7.,  2.,  6.,  2.,\n",
      "        1.]), 'SP41': array([19., 16., 14., 11., 12., 11., 13., 14., 15., 15., 20., 10., 11.,\n",
      "       14.]), 'SP43': array([20., 17., 17., 22., 15., 19., 16., 13., 14., nan, 16.]), 'SP44': array([28., 17., 17., 15., 17., 12.,  6.,  5.,  2., 24., 17.,  8., 15.,\n",
      "        5.]), 'SP45': array([14., 10.,  5.,  7., 11.,  8.,  9.,  8.,  8.,  7.,  7.,  7., 11.,\n",
      "        8.]), 'SP47': array([11., 14., 15.,  9., 12., 14., 13., 16., 14., 14., 14., 14., 14.,\n",
      "       13.]), 'SP55': array([14., 15., 15., 13.,  9., 15.,  9., 10.,  7.,  7.,  5.,  5.,  8.,\n",
      "       12.]), 'SP59': array([26., 29., 26., 27., 29., 19., 21., 13., 15.,  9., 12., 11., 11.,\n",
      "        8.]), 'SP65': array([21., 11.,  9.,  5.,  7., 10., 10.,  8.,  6., 11.,  6.,  6.,  5.,\n",
      "        9.]), 'SP61': array([24., 25., 21., 18., 16., 14., 12., 11.,  8.,  7.,  7.,  8.,  6.,\n",
      "        6.]), 'SP60': array([20., 17., 13.,  8., 10.,  9., 11., 12.,  6.,  8.,  6.,  7.,  8.,\n",
      "       12.]), 'SP70': array([20., 14., 14.,  6., 15., 14., 15., 14., 10.,  7., 11.,  4.,  4.,\n",
      "        7.]), 'SP69': array([23., 23., 22., 20., 20., 23., 17., 14., 20., 18., 20., 28., 18.,\n",
      "       25.]), 'SP71': array([13., 19., 19., 18., 16., 17., 19., 18., 14., 13., 16., 17., 25.,\n",
      "       19.]), 'SP72': array([26., 19., 22., 25., 19., 20., 17., 17., 21., 17., 17., 21., 17.])}\n"
     ]
    }
   ],
   "source": [
    "with open(\"subject_hdrs_17_dict.pkl\", \"wb\") as outfile1:\n",
    "    print(subject_hdrs_17_dict)\n",
    "    pickle.dump(subject_hdrs_17_dict, outfile1)"
   ]
  },
  {
   "cell_type": "code",
   "execution_count": 6,
   "id": "4c40a1a2-b351-4e8a-aeae-766a55484ff9",
   "metadata": {},
   "outputs": [
    {
     "name": "stdout",
     "output_type": "stream",
     "text": [
      "{'SP1': [datetime.datetime(2020, 1, 28, 0, 0), datetime.datetime(2020, 2, 4, 0, 0), datetime.datetime(2020, 2, 11, 0, 0), datetime.datetime(2020, 2, 20, 0, 0), datetime.datetime(2020, 2, 27, 0, 0), datetime.datetime(2020, 3, 5, 0, 0), datetime.datetime(2020, 3, 10, 0, 0), datetime.datetime(2020, 3, 18, 0, 0), datetime.datetime(2020, 3, 24, 0, 0), datetime.datetime(2020, 3, 30, 0, 0), datetime.datetime(2020, 4, 6, 0, 0), datetime.datetime(2020, 4, 13, 0, 0), datetime.datetime(2020, 4, 20, 0, 0)], 'SP2': [datetime.datetime(2020, 1, 29, 0, 0), datetime.datetime(2020, 2, 6, 0, 0), datetime.datetime(2020, 2, 13, 0, 0), datetime.datetime(2020, 2, 20, 0, 0), datetime.datetime(2020, 2, 27, 0, 0), datetime.datetime(2020, 3, 5, 0, 0), datetime.datetime(2020, 3, 12, 0, 0), datetime.datetime(2020, 3, 20, 0, 0), datetime.datetime(2020, 3, 26, 0, 0), datetime.datetime(2020, 3, 30, 0, 0), datetime.datetime(2020, 4, 9, 0, 0), datetime.datetime(2020, 4, 17, 0, 0), datetime.datetime(2020, 4, 23, 0, 0)], 'SP3': [datetime.datetime(2020, 1, 31, 0, 0), datetime.datetime(2020, 2, 7, 0, 0), datetime.datetime(2020, 2, 14, 0, 0), datetime.datetime(2020, 2, 20, 0, 0), datetime.datetime(2020, 3, 5, 0, 0), datetime.datetime(2020, 3, 12, 0, 0), datetime.datetime(2020, 3, 19, 0, 0), datetime.datetime(2020, 3, 26, 0, 0), datetime.datetime(2020, 4, 2, 0, 0), datetime.datetime(2020, 4, 9, 0, 0), datetime.datetime(2020, 4, 26, 0, 0), datetime.datetime(2020, 4, 23, 0, 0)], 'SP5': [datetime.datetime(2020, 2, 6, 0, 0), datetime.datetime(2020, 2, 13, 0, 0), datetime.datetime(2020, 2, 20, 0, 0), datetime.datetime(2020, 2, 27, 0, 0), datetime.datetime(2020, 3, 5, 0, 0), datetime.datetime(2020, 3, 12, 0, 0), datetime.datetime(2020, 3, 19, 0, 0), datetime.datetime(2020, 3, 26, 0, 0), datetime.datetime(2020, 4, 2, 0, 0), datetime.datetime(2020, 4, 9, 0, 0), datetime.datetime(2020, 4, 16, 0, 0), datetime.datetime(2020, 4, 23, 0, 0), datetime.datetime(2020, 4, 30, 0, 0)], 'SP6': [datetime.datetime(2020, 2, 20, 0, 0), datetime.datetime(2020, 2, 27, 0, 0), datetime.datetime(2020, 3, 5, 0, 0), datetime.datetime(2020, 3, 13, 0, 0), datetime.datetime(2020, 3, 19, 0, 0), datetime.datetime(2020, 3, 26, 0, 0), datetime.datetime(2020, 4, 2, 0, 0), datetime.datetime(2020, 4, 9, 0, 0), datetime.datetime(2020, 4, 16, 0, 0), datetime.datetime(2020, 4, 23, 0, 0), datetime.datetime(2020, 4, 30, 0, 0), datetime.datetime(2020, 5, 7, 0, 0), datetime.datetime(2020, 5, 14, 0, 0)], 'SP11': [datetime.datetime(2020, 8, 11, 0, 0), datetime.datetime(2020, 8, 17, 0, 0), datetime.datetime(2020, 8, 24, 0, 0), datetime.datetime(2020, 9, 1, 0, 0), datetime.datetime(2020, 9, 9, 0, 0), datetime.datetime(2020, 9, 16, 0, 0), datetime.datetime(2020, 9, 23, 0, 0), datetime.datetime(2020, 9, 30, 0, 0), datetime.datetime(2020, 10, 7, 0, 0), datetime.datetime(2020, 10, 14, 0, 0), datetime.datetime(2020, 10, 21, 0, 0), datetime.datetime(2020, 10, 28, 0, 0), datetime.datetime(2020, 11, 4, 0, 0), datetime.datetime(2020, 11, 11, 0, 0)], 'SP12': [datetime.datetime(2020, 8, 13, 0, 0), datetime.datetime(2020, 8, 25, 0, 0), datetime.datetime(2020, 9, 1, 0, 0), datetime.datetime(2020, 9, 9, 0, 0), datetime.datetime(2020, 9, 17, 0, 0), datetime.datetime(2020, 9, 22, 0, 0), datetime.datetime(2020, 9, 29, 0, 0), datetime.datetime(2020, 10, 6, 0, 0), datetime.datetime(2020, 10, 15, 0, 0), datetime.datetime(2020, 10, 23, 0, 0), datetime.datetime(2020, 10, 27, 0, 0), datetime.datetime(2020, 11, 3, 0, 0), datetime.datetime(2020, 11, 11, 0, 0), datetime.datetime(2020, 11, 17, 0, 0)], 'SP15': [datetime.datetime(2020, 9, 22, 0, 0), datetime.datetime(2020, 10, 13, 0, 0), datetime.datetime(2020, 10, 23, 0, 0), datetime.datetime(2020, 10, 30, 0, 0), datetime.datetime(2020, 11, 6, 0, 0), datetime.datetime(2020, 11, 10, 0, 0), datetime.datetime(2020, 11, 20, 0, 0), datetime.datetime(2020, 11, 24, 0, 0), datetime.datetime(2020, 12, 4, 0, 0), datetime.datetime(2020, 12, 11, 0, 0), datetime.datetime(2020, 12, 18, 0, 0), datetime.datetime(2020, 12, 22, 0, 0), datetime.datetime(2020, 12, 30, 0, 0), datetime.datetime(2021, 1, 8, 0, 0)], 'SP16': [datetime.datetime(2020, 10, 1, 0, 0), datetime.datetime(2020, 10, 16, 0, 0), datetime.datetime(2020, 10, 23, 0, 0), datetime.datetime(2020, 10, 30, 0, 0), datetime.datetime(2020, 11, 6, 0, 0), datetime.datetime(2020, 11, 12, 0, 0), datetime.datetime(2020, 11, 20, 0, 0), datetime.datetime(2020, 11, 30, 0, 0), datetime.datetime(2020, 12, 4, 0, 0), datetime.datetime(2020, 12, 11, 0, 0), datetime.datetime(2020, 12, 18, 0, 0), datetime.datetime(2020, 12, 23, 0, 0), datetime.datetime(2020, 12, 30, 0, 0), datetime.datetime(2021, 1, 8, 0, 0)], 'SP21': [datetime.datetime(2020, 12, 17, 0, 0), datetime.datetime(2020, 12, 29, 0, 0), datetime.datetime(2021, 1, 5, 0, 0), datetime.datetime(2021, 1, 13, 0, 0), datetime.datetime(2021, 1, 20, 0, 0), datetime.datetime(2021, 1, 27, 0, 0), datetime.datetime(2021, 2, 3, 0, 0), datetime.datetime(2021, 2, 9, 0, 0), datetime.datetime(2021, 2, 16, 0, 0), datetime.datetime(2021, 2, 23, 0, 0), datetime.datetime(2021, 3, 5, 0, 0), datetime.datetime(2021, 3, 9, 0, 0), datetime.datetime(2021, 3, 16, 0, 0), datetime.datetime(2021, 3, 23, 0, 0)], 'SP22': [datetime.datetime(2021, 1, 13, 0, 0), datetime.datetime(2021, 1, 20, 0, 0), datetime.datetime(2021, 1, 27, 0, 0), datetime.datetime(2021, 2, 3, 0, 0), datetime.datetime(2021, 2, 9, 0, 0), datetime.datetime(2021, 2, 22, 0, 0), datetime.datetime(2021, 2, 23, 0, 0), datetime.datetime(2021, 3, 2, 0, 0), datetime.datetime(2021, 3, 9, 0, 0), datetime.datetime(2021, 3, 16, 0, 0), datetime.datetime(2021, 3, 23, 0, 0), datetime.datetime(2021, 3, 30, 0, 0), datetime.datetime(2021, 4, 6, 0, 0), datetime.datetime(2021, 4, 13, 0, 0)], 'SP24': [datetime.datetime(2021, 1, 21, 0, 0), datetime.datetime(2021, 1, 25, 0, 0), datetime.datetime(2021, 2, 3, 0, 0), datetime.datetime(2021, 2, 10, 0, 0), datetime.datetime(2021, 2, 17, 0, 0), datetime.datetime(2021, 2, 22, 0, 0), datetime.datetime(2021, 3, 3, 0, 0), datetime.datetime(2021, 3, 10, 0, 0), datetime.datetime(2021, 3, 17, 0, 0), datetime.datetime(2021, 3, 24, 0, 0), datetime.datetime(2021, 3, 31, 0, 0), datetime.datetime(2021, 4, 7, 0, 0), datetime.datetime(2021, 4, 14, 0, 0), datetime.datetime(2021, 4, 21, 0, 0)], 'SP27': [datetime.datetime(2021, 2, 16, 0, 0), datetime.datetime(2021, 2, 22, 0, 0), datetime.datetime(2021, 3, 1, 0, 0), datetime.datetime(2021, 3, 8, 0, 0), datetime.datetime(2021, 3, 15, 0, 0), datetime.datetime(2021, 3, 22, 0, 0), datetime.datetime(2021, 3, 29, 0, 0), datetime.datetime(2021, 4, 5, 0, 0), datetime.datetime(2021, 4, 12, 0, 0), datetime.datetime(2021, 4, 19, 0, 0), datetime.datetime(2021, 4, 26, 0, 0), datetime.datetime(2021, 5, 3, 0, 0), datetime.datetime(2021, 5, 10, 0, 0), datetime.datetime(2021, 5, 17, 0, 0)], 'SP28': [datetime.datetime(2021, 2, 26, 0, 0), datetime.datetime(2021, 3, 5, 0, 0), datetime.datetime(2021, 3, 12, 0, 0), datetime.datetime(2021, 3, 18, 0, 0), datetime.datetime(2021, 3, 26, 0, 0), datetime.datetime(2021, 4, 2, 0, 0), datetime.datetime(2021, 4, 8, 0, 0), datetime.datetime(2021, 4, 16, 0, 0), 'No show', datetime.datetime(2021, 4, 30, 0, 0), datetime.datetime(2021, 5, 7, 0, 0), datetime.datetime(2021, 5, 14, 0, 0), datetime.datetime(2021, 5, 21, 0, 0), datetime.datetime(2021, 5, 28, 0, 0)], 'SP29': [datetime.datetime(2021, 2, 26, 0, 0), datetime.datetime(2021, 3, 3, 0, 0), datetime.datetime(2021, 3, 12, 0, 0), datetime.datetime(2021, 3, 19, 0, 0), datetime.datetime(2021, 3, 26, 0, 0), datetime.datetime(2021, 4, 2, 0, 0), datetime.datetime(2021, 4, 9, 0, 0), datetime.datetime(2021, 4, 16, 0, 0), datetime.datetime(2021, 4, 23, 0, 0), datetime.datetime(2021, 5, 4, 0, 0), datetime.datetime(2021, 5, 6, 0, 0), datetime.datetime(2021, 5, 14, 0, 0), datetime.datetime(2021, 5, 21, 0, 0), datetime.datetime(2021, 5, 28, 0, 0)], 'SP30': [datetime.datetime(2021, 3, 30, 0, 0), datetime.datetime(2021, 4, 13, 0, 0), datetime.datetime(2021, 4, 21, 0, 0), datetime.datetime(2021, 4, 30, 0, 0), datetime.datetime(2021, 5, 5, 0, 0), datetime.datetime(2021, 5, 12, 0, 0), datetime.datetime(2021, 5, 21, 0, 0), datetime.datetime(2021, 5, 26, 0, 0), datetime.datetime(2021, 6, 1, 0, 0), datetime.datetime(2021, 6, 10, 0, 0), datetime.datetime(2021, 6, 17, 0, 0), datetime.datetime(2021, 6, 22, 0, 0), datetime.datetime(2021, 6, 29, 0, 0), datetime.datetime(2021, 7, 6, 0, 0)], 'SP31': [datetime.datetime(2021, 4, 9, 0, 0), datetime.datetime(2021, 4, 30, 0, 0), datetime.datetime(2021, 5, 7, 0, 0), datetime.datetime(2021, 5, 13, 0, 0), datetime.datetime(2021, 5, 21, 0, 0), datetime.datetime(2021, 5, 28, 0, 0), datetime.datetime(2021, 6, 4, 0, 0), datetime.datetime(2021, 6, 8, 0, 0), datetime.datetime(2021, 6, 15, 0, 0), datetime.datetime(2021, 6, 22, 0, 0), datetime.datetime(2021, 6, 29, 0, 0), datetime.datetime(2021, 7, 6, 0, 0), datetime.datetime(2021, 7, 13, 0, 0), datetime.datetime(2021, 7, 20, 0, 0)], 'SP34': [datetime.datetime(2021, 4, 30, 0, 0), datetime.datetime(2021, 5, 7, 0, 0), datetime.datetime(2021, 5, 14, 0, 0), datetime.datetime(2021, 5, 21, 0, 0), datetime.datetime(2021, 5, 28, 0, 0), datetime.datetime(2021, 6, 4, 0, 0), datetime.datetime(2021, 6, 11, 0, 0), datetime.datetime(2021, 6, 18, 0, 0), datetime.datetime(2021, 6, 25, 0, 0), datetime.datetime(2021, 7, 2, 0, 0), datetime.datetime(2021, 7, 9, 0, 0), datetime.datetime(2021, 7, 16, 0, 0), datetime.datetime(2021, 7, 23, 0, 0), datetime.datetime(2021, 7, 30, 0, 0)], 'SP33': [datetime.datetime(2021, 4, 20, 0, 0), datetime.datetime(2021, 4, 28, 0, 0), datetime.datetime(2021, 5, 7, 0, 0), datetime.datetime(2021, 5, 12, 0, 0), datetime.datetime(2021, 5, 18, 0, 0), datetime.datetime(2021, 5, 25, 0, 0), datetime.datetime(2021, 6, 1, 0, 0), datetime.datetime(2021, 6, 8, 0, 0), datetime.datetime(2021, 6, 15, 0, 0), datetime.datetime(2021, 6, 22, 0, 0), datetime.datetime(2021, 6, 29, 0, 0), datetime.datetime(2021, 7, 6, 0, 0), datetime.datetime(2021, 7, 13, 0, 0), datetime.datetime(2021, 7, 20, 0, 0)], 'SP36': [datetime.datetime(2021, 7, 22, 0, 0), datetime.datetime(2021, 8, 17, 0, 0), datetime.datetime(2021, 8, 24, 0, 0), datetime.datetime(2021, 8, 31, 0, 0), datetime.datetime(2021, 9, 8, 0, 0), datetime.datetime(2021, 9, 17, 0, 0), datetime.datetime(2021, 9, 21, 0, 0), datetime.datetime(2021, 9, 28, 0, 0), 'Missed', datetime.datetime(2021, 10, 13, 0, 0), datetime.datetime(2021, 10, 19, 0, 0), datetime.datetime(2021, 11, 3, 0, 0)], 'SP40': [datetime.datetime(2021, 8, 26, 0, 0), datetime.datetime(2021, 9, 14, 0, 0), datetime.datetime(2021, 9, 21, 0, 0), datetime.datetime(2021, 9, 28, 0, 0), datetime.datetime(2021, 10, 5, 0, 0), datetime.datetime(2021, 10, 12, 0, 0), datetime.datetime(2021, 10, 19, 0, 0), datetime.datetime(2021, 10, 26, 0, 0), datetime.datetime(2021, 11, 2, 0, 0), datetime.datetime(2021, 11, 11, 0, 0), datetime.datetime(2021, 11, 16, 0, 0), datetime.datetime(2021, 11, 23, 0, 0), datetime.datetime(2021, 11, 30, 0, 0), datetime.datetime(2021, 12, 7, 0, 0)], 'SP41': [datetime.datetime(2021, 9, 28, 0, 0), datetime.datetime(2021, 10, 12, 0, 0), datetime.datetime(2021, 10, 19, 0, 0), datetime.datetime(2021, 10, 26, 0, 0), datetime.datetime(2021, 11, 2, 0, 0), datetime.datetime(2021, 11, 9, 0, 0), datetime.datetime(2021, 11, 16, 0, 0), datetime.datetime(2021, 11, 23, 0, 0), datetime.datetime(2021, 11, 30, 0, 0), datetime.datetime(2021, 12, 7, 0, 0), datetime.datetime(2021, 12, 14, 0, 0), datetime.datetime(2021, 12, 21, 0, 0), datetime.datetime(2021, 12, 28, 0, 0), datetime.datetime(2022, 1, 4, 0, 0)], 'SP43': [datetime.datetime(2021, 10, 8, 0, 0), datetime.datetime(2021, 10, 29, 0, 0), datetime.datetime(2021, 11, 5, 0, 0), datetime.datetime(2021, 11, 12, 0, 0), 'Missed', datetime.datetime(2021, 12, 3, 0, 0), datetime.datetime(2021, 12, 10, 0, 0), 'Missed', datetime.datetime(2021, 12, 22, 0, 0), datetime.datetime(2021, 12, 28, 0, 0), datetime.datetime(2022, 1, 4, 0, 0), 'Missed', 'Missed', datetime.datetime(2022, 1, 28, 0, 0)], 'SP44': [datetime.datetime(2021, 10, 25, 0, 0), datetime.datetime(2021, 11, 12, 0, 0), datetime.datetime(2021, 11, 19, 0, 0), datetime.datetime(2021, 11, 30, 0, 0), datetime.datetime(2021, 12, 3, 0, 0), datetime.datetime(2021, 12, 10, 0, 0), datetime.datetime(2021, 12, 17, 0, 0), datetime.datetime(2021, 12, 22, 0, 0), datetime.datetime(2021, 12, 28, 0, 0), datetime.datetime(2022, 1, 5, 0, 0), datetime.datetime(2022, 1, 14, 0, 0), datetime.datetime(2022, 1, 21, 0, 0), datetime.datetime(2022, 1, 26, 0, 0), datetime.datetime(2022, 2, 2, 0, 0)], 'SP45': [datetime.datetime(2021, 10, 27, 0, 0), datetime.datetime(2021, 11, 19, 0, 0), datetime.datetime(2021, 11, 24, 0, 0), datetime.datetime(2021, 12, 3, 0, 0), datetime.datetime(2021, 12, 10, 0, 0), datetime.datetime(2021, 12, 17, 0, 0), datetime.datetime(2021, 12, 22, 0, 0), datetime.datetime(2022, 1, 5, 0, 0), datetime.datetime(2022, 1, 12, 0, 0), datetime.datetime(2022, 1, 19, 0, 0), datetime.datetime(2022, 1, 26, 0, 0), datetime.datetime(2022, 2, 2, 0, 0), datetime.datetime(2022, 2, 9, 0, 0), datetime.datetime(2022, 2, 16, 0, 0)], 'SP47': [datetime.datetime(2021, 11, 18, 0, 0), datetime.datetime(2021, 12, 7, 0, 0), datetime.datetime(2021, 12, 14, 0, 0), datetime.datetime(2021, 12, 21, 0, 0), datetime.datetime(2021, 12, 28, 0, 0), datetime.datetime(2022, 1, 4, 0, 0), datetime.datetime(2022, 1, 11, 0, 0), datetime.datetime(2022, 1, 18, 0, 0), datetime.datetime(2022, 1, 25, 0, 0), datetime.datetime(2022, 2, 1, 0, 0), datetime.datetime(2022, 2, 8, 0, 0), datetime.datetime(2022, 2, 15, 0, 0), datetime.datetime(2022, 2, 22, 0, 0), datetime.datetime(2022, 3, 1, 0, 0)], 'SP55': [datetime.datetime(2022, 4, 29, 0, 0), datetime.datetime(2022, 5, 13, 0, 0), datetime.datetime(2022, 5, 20, 0, 0), datetime.datetime(2022, 5, 27, 0, 0), datetime.datetime(2022, 6, 1, 0, 0), datetime.datetime(2022, 6, 3, 0, 0), datetime.datetime(2022, 6, 17, 0, 0), datetime.datetime(2022, 6, 24, 0, 0), datetime.datetime(2022, 7, 1, 0, 0), datetime.datetime(2022, 7, 8, 0, 0), datetime.datetime(2022, 7, 14, 0, 0), datetime.datetime(2022, 7, 21, 0, 0), datetime.datetime(2022, 7, 28, 0, 0), datetime.datetime(2022, 8, 4, 0, 0)], 'SP59': [datetime.datetime(2022, 5, 31, 0, 0), datetime.datetime(2022, 6, 10, 0, 0), datetime.datetime(2022, 6, 15, 0, 0), datetime.datetime(2022, 6, 22, 0, 0), datetime.datetime(2022, 6, 29, 0, 0), datetime.datetime(2022, 7, 7, 0, 0), datetime.datetime(2022, 7, 13, 0, 0), datetime.datetime(2022, 7, 21, 0, 0), datetime.datetime(2022, 7, 28, 0, 0), datetime.datetime(2022, 8, 3, 0, 0), datetime.datetime(2022, 8, 11, 0, 0), datetime.datetime(2022, 8, 17, 0, 0), datetime.datetime(2022, 8, 24, 0, 0), datetime.datetime(2022, 9, 1, 0, 0)], 'SP65': [datetime.datetime(2022, 7, 14, 0, 0), datetime.datetime(2022, 7, 28, 0, 0), datetime.datetime(2022, 8, 2, 0, 0), datetime.datetime(2022, 8, 11, 0, 0), datetime.datetime(2022, 8, 15, 0, 0), datetime.datetime(2022, 8, 25, 0, 0), datetime.datetime(2022, 9, 2, 0, 0), datetime.datetime(2022, 9, 8, 0, 0), datetime.datetime(2022, 9, 15, 0, 0), datetime.datetime(2022, 9, 22, 0, 0), datetime.datetime(2022, 9, 29, 0, 0), datetime.datetime(2022, 10, 6, 0, 0), datetime.datetime(2022, 10, 13, 0, 0), datetime.datetime(2022, 10, 20, 0, 0)], 'SP61': [datetime.datetime(2022, 6, 14, 0, 0), datetime.datetime(2022, 6, 24, 0, 0), datetime.datetime(2022, 7, 1, 0, 0), datetime.datetime(2022, 7, 8, 0, 0), datetime.datetime(2022, 7, 13, 0, 0), datetime.datetime(2022, 7, 20, 0, 0), datetime.datetime(2022, 7, 27, 0, 0), datetime.datetime(2022, 8, 3, 0, 0), datetime.datetime(2022, 8, 8, 0, 0), datetime.datetime(2022, 8, 17, 0, 0), datetime.datetime(2022, 8, 23, 0, 0), datetime.datetime(2022, 8, 31, 0, 0), datetime.datetime(2022, 9, 8, 0, 0), datetime.datetime(2022, 9, 14, 0, 0)], 'SP60': [datetime.datetime(2022, 6, 7, 0, 0), datetime.datetime(2022, 6, 17, 0, 0), datetime.datetime(2022, 6, 24, 0, 0), datetime.datetime(2022, 6, 29, 0, 0), datetime.datetime(2022, 7, 8, 0, 0), datetime.datetime(2022, 7, 15, 0, 0), datetime.datetime(2022, 7, 22, 0, 0), datetime.datetime(2022, 7, 29, 0, 0), datetime.datetime(2022, 8, 5, 0, 0), datetime.datetime(2022, 8, 12, 0, 0), datetime.datetime(2022, 8, 19, 0, 0), datetime.datetime(2022, 8, 26, 0, 0), datetime.datetime(2022, 9, 2, 0, 0), datetime.datetime(2022, 9, 9, 0, 0)], 'SP70': [datetime.datetime(2022, 8, 25, 0, 0), datetime.datetime(2022, 9, 2, 0, 0), datetime.datetime(2022, 9, 9, 0, 0), datetime.datetime(2022, 9, 16, 0, 0), datetime.datetime(2022, 9, 23, 0, 0), datetime.datetime(2022, 9, 30, 0, 0), datetime.datetime(2022, 10, 7, 0, 0), datetime.datetime(2022, 10, 12, 0, 0), datetime.datetime(2022, 10, 21, 0, 0), datetime.datetime(2022, 10, 28, 0, 0), datetime.datetime(2022, 11, 4, 0, 0), datetime.datetime(2022, 11, 11, 0, 0), datetime.datetime(2022, 11, 18, 0, 0), datetime.datetime(2022, 11, 23, 0, 0)], 'SP69': [datetime.datetime(2022, 8, 17, 0, 0), datetime.datetime(2022, 8, 31, 0, 0), datetime.datetime(2022, 9, 7, 0, 0), datetime.datetime(2022, 9, 14, 0, 0), datetime.datetime(2022, 9, 21, 0, 0), datetime.datetime(2022, 9, 30, 0, 0), datetime.datetime(2022, 10, 7, 0, 0), datetime.datetime(2022, 10, 12, 0, 0), datetime.datetime(2022, 10, 21, 0, 0), datetime.datetime(2022, 10, 28, 0, 0), datetime.datetime(2022, 11, 2, 0, 0), datetime.datetime(2022, 11, 11, 0, 0), datetime.datetime(2022, 11, 18, 0, 0), datetime.datetime(2022, 11, 23, 0, 0)], 'SP71': [datetime.datetime(2022, 8, 30, 0, 0), datetime.datetime(2022, 9, 9, 0, 0), datetime.datetime(2022, 9, 16, 0, 0), datetime.datetime(2022, 9, 23, 0, 0), datetime.datetime(2022, 9, 30, 0, 0), datetime.datetime(2022, 10, 7, 0, 0), datetime.datetime(2022, 10, 11, 0, 0), datetime.datetime(2022, 10, 20, 0, 0), datetime.datetime(2022, 10, 28, 0, 0), datetime.datetime(2022, 11, 4, 0, 0), datetime.datetime(2022, 11, 11, 0, 0), datetime.datetime(2022, 11, 18, 0, 0), datetime.datetime(2022, 11, 23, 0, 0), datetime.datetime(2022, 12, 2, 0, 0)], 'SP72': [datetime.datetime(2022, 9, 14, 0, 0), datetime.datetime(2022, 9, 28, 0, 0), datetime.datetime(2022, 10, 5, 0, 0), datetime.datetime(2022, 10, 12, 0, 0), datetime.datetime(2022, 10, 19, 0, 0), datetime.datetime(2022, 10, 26, 0, 0), datetime.datetime(2022, 11, 2, 0, 0), datetime.datetime(2022, 11, 9, 0, 0), datetime.datetime(2022, 11, 16, 0, 0), datetime.datetime(2022, 11, 23, 0, 0), datetime.datetime(2022, 11, 30, 0, 0), datetime.datetime(2022, 12, 7, 0, 0), datetime.datetime(2022, 12, 16, 0, 0)]}\n"
     ]
    }
   ],
   "source": [
    "with open(\"subject_vist_date_dict.pkl\", \"wb\") as outfile2:\n",
    "    print(subject_vist_date_dict)\n",
    "    pickle.dump(subject_vist_date_dict, outfile2)"
   ]
  },
  {
   "cell_type": "code",
   "execution_count": 7,
   "id": "ec215c6e-a0e9-4b7e-92f9-dccc6addde17",
   "metadata": {},
   "outputs": [
    {
     "name": "stdout",
     "output_type": "stream",
     "text": [
      "{'SP1': array([nan, 26., 26., 26., 31., 37., 34., 32., 31., 30., 33., 37., 34.,\n",
      "       33.]), 'SP2': array([nan, 27., 39., 12., 30., 21., 20., 35., 39., 20., 41., 33., 38.,\n",
      "       36.]), 'SP3': array([nan, 38., 44., 36., 47., 42., 41., 39., 49., 53., 42., 37., 44.]), 'SP5': array([nan, 22., 11., 13., 15., 13., 15., 10.,  9., 11.,  6.,  8.,  6.,\n",
      "        6.]), 'SP6': array([nan, 26., 12., 11.,  5., 10., 11., 21.,  5.,  6., 11., 15.,  7.,\n",
      "       20.]), 'SP11': array([44., 43., 33., 45., 48., 36., 30., 24., 20., 16., 13., 13., 11.,\n",
      "        6.]), 'SP12': array([40., 24., 34., 43., 30., 30., 29., 33., 32., 27., 23., 27., 29.,\n",
      "       27.]), 'SP15': array([27., 30., 34., 42., 43., 27., 31., 36., 30., 37., 38., 29.,  8.,\n",
      "       28.]), 'SP16': array([20., 30., 25., 17., 21., 13., 11., 14., 16., 12.,  7.,  1.,  6.,\n",
      "       17.]), 'SP21': array([34., 20., 27., 24., 26., 17., 26., 21.,  8., 19.,  8.,  9.,  7.,\n",
      "        5.]), 'SP22': array([34., 31., 36., 30., 33., 24., 19., 27., 28., 19., 20., 23., 18.,\n",
      "       22.]), 'SP24': array([36., 39., 35., 23., 26., 39., 33., 25., 24., 13., 27., 17., 11.,\n",
      "        6.]), 'SP27': array([27.,  9.,  8.,  6., 12., 13., 16., 36.,  5., 15., 12., 12., 28.,\n",
      "       21.]), 'SP28': array([nan, 39., 41., 46., 41., 46., 39., 41., 35., 32., 34., 35., 37.]), 'SP29': array([27., 32., 27., 25., 28., 26., 27., 24., 18., 26., 23., 22., 19.,\n",
      "       18.]), 'SP30': array([36., 39., 31., 21., 17., 26., 18., 28., 25., 26., 12.,  9.,  9.,\n",
      "       24.]), 'SP31': array([28., 23., 28., 33., 21., 24., 25., 28., 24., 15., 22., 20.,  7.,\n",
      "        4.]), 'SP34': array([22., 26., 23., 28., 25., 24., 26., 24., 30., 28., 23., 13., 23.,\n",
      "       17.]), 'SP33': array([18., 26., 23., 27., 11., 19., 19., 22., 15., 25., 21., 25., 12.,\n",
      "        8.]), 'SP36': array([26., 35., 38., 37., 41., 45., 41., 37., 42., 34., 30.]), 'SP40': array([30., 16.,  6.,  7.,  6.,  8.,  6., 11., 17., 14.,  6., 10.,  3.,\n",
      "        3.]), 'SP41': array([37., 39., 36., 33., 33., 33., 24., 37., 32., 32., 37., 24., 27.,\n",
      "       32.]), 'SP43': array([36., 31., 35., 41., 36., 36., 35., 34., 33., nan, 31.]), 'SP44': array([50., 28., 32., 22., 26., 21., 11., 10.,  9., 41., 36., 16., 34.,\n",
      "       13.]), 'SP45': array([37., 27., nan, 19., 24., 23., 19., 15., 21., 12., 14., 19., 19.,\n",
      "       15.]), 'SP47': array([24., 32., 30., 25., 24., 27., 31., 33., 26., 28., 28., 28., 28.,\n",
      "       27.]), 'SP55': array([24., 26., 29., 29., 23., 24., 17., 18., 16., 16., 18., 16., 13.,\n",
      "       27.]), 'SP59': array([49., 47., 47., 45., 46., 34., 35., 27., 26., 22., 23., 23., 24.,\n",
      "       18.]), 'SP65': array([34., 21., 17., 12., 16., 19., 18., 12., 17., 17., 16., 14.,  9.,\n",
      "       11.]), 'SP61': array([37., 34., 27., 26., 25., 20., 18., 17., 14., 12., 10.,  9.,  7.,\n",
      "        7.]), 'SP60': array([35., 32., 18., 11., 15., 17., 12., 20.,  8., 17., 10., 11., 14.,\n",
      "       15.]), 'SP70': array([33., 23., 17., 10., 20., 21., 19., 19., 14., 10., 16.,  4.,  7.,\n",
      "        7.]), 'SP69': array([37., 31., 38., 37., 36., 33., 28., 22., 31., 29., 34., 42., 30.,\n",
      "       39.]), 'SP71': array([35., 35., 33., 33., 27., 28., 30., 31., 18., 25., 26., 38., 45.,\n",
      "       34.]), 'SP72': array([40., 41., 38., 41., 34., 36., 32., 31., 35., 34., 30., 35., 31.])}\n"
     ]
    }
   ],
   "source": [
    "with open(\"subject_hdrs24_dict.pkl\", \"wb\") as outfile3:\n",
    "    print(subject_hdrs24_dict)\n",
    "    pickle.dump(subject_hdrs24_dict, outfile3)"
   ]
  }
 ],
 "metadata": {
  "kernelspec": {
   "display_name": "sensecode",
   "language": "python",
   "name": "sensecode"
  },
  "language_info": {
   "codemirror_mode": {
    "name": "ipython",
    "version": 3
   },
   "file_extension": ".py",
   "mimetype": "text/x-python",
   "name": "python",
   "nbconvert_exporter": "python",
   "pygments_lexer": "ipython3",
   "version": "3.11.0"
  }
 },
 "nbformat": 4,
 "nbformat_minor": 5
}
