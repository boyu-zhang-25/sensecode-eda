{
 "cells": [
  {
   "cell_type": "code",
   "execution_count": 1,
   "id": "83f1019c-a09b-4b64-af3c-ea0b298f47ef",
   "metadata": {},
   "outputs": [],
   "source": [
    "import pandas as pd\n",
    "import numpy as np\n",
    "import pickle \n"
   ]
  },
  {
   "cell_type": "code",
   "execution_count": 2,
   "id": "8ac26c7e-4b36-4707-bed5-14c58fbef130",
   "metadata": {},
   "outputs": [],
   "source": [
    "SUBJECT_LIST = ['001', '002', '003', '005', '006', '011', '012', '015', '016', '021','022', '024', '027', '028', '029',  '030', '031', '034', '033', '036', '040', '041', '043', '044', '045', '047', '055', '059', '065', '061', '060', '070', '069', '071', '072']\n",
    "subject_hdrs_17_dict = {}\n",
    "subject_vist_date_dict = {}\n",
    "subject_hdrs24_dict = {}\n",
    "\n",
    "SVAING_FILE_FOLDER = 'labels/'"
   ]
  },
  {
   "cell_type": "code",
   "execution_count": 3,
   "id": "8c278fed-69e4-4dd9-8cbb-cf98de185ca1",
   "metadata": {},
   "outputs": [],
   "source": [
    "# xls = pd.ExcelFile('/home/bayesian-posterior/Desktop/sensecode-eda/HDRS Scores 12.20.22.xlsx')\n",
    "hdrs_df = pd.read_excel('/home/bayesian-posterior/Desktop/sensecode-eda/HDRS.xlsx',  sheet_name = 0)\n",
    "date_df = pd.read_excel('/home/bayesian-posterior/Desktop/sensecode-eda/HDRS.xlsx', sheet_name = 1)\n",
    "\n",
    "hdrs_df['record_id'] = hdrs_df['record_id'].apply(lambda x : x.split('-')[0])\n",
    "date_df['Record ID'] = date_df['Record ID'].apply(lambda x : x.split('-')[0])\n",
    "\n",
    "grouped_hdrs_df = hdrs_df.groupby('record_id')\n",
    "grouped_date_df = date_df.groupby('Record ID')\n"
   ]
  },
  {
   "cell_type": "code",
   "execution_count": 4,
   "id": "98d3d6a4-9ba1-4c77-b42a-b3994b612d8f",
   "metadata": {},
   "outputs": [
    {
     "name": "stdout",
     "output_type": "stream",
     "text": [
      "001\n",
      "SP1_HDRS.csv\n",
      "002\n",
      "SP2_HDRS.csv\n",
      "003\n",
      "SP3_HDRS.csv\n",
      "005\n",
      "SP5_HDRS.csv\n",
      "006\n",
      "SP6_HDRS.csv\n",
      "011\n",
      "SP11_HDRS.csv\n",
      "012\n",
      "SP12_HDRS.csv\n",
      "015\n",
      "SP15_HDRS.csv\n",
      "016\n",
      "SP16_HDRS.csv\n",
      "021\n",
      "SP21_HDRS.csv\n",
      "022\n",
      "SP22_HDRS.csv\n",
      "024\n",
      "SP24_HDRS.csv\n",
      "027\n",
      "SP27_HDRS.csv\n",
      "028\n",
      "SP28_HDRS.csv\n",
      "029\n",
      "SP29_HDRS.csv\n",
      "030\n",
      "SP30_HDRS.csv\n",
      "031\n",
      "SP31_HDRS.csv\n",
      "034\n",
      "SP34_HDRS.csv\n",
      "033\n",
      "SP33_HDRS.csv\n",
      "036\n",
      "SP36_HDRS.csv\n",
      "040\n",
      "SP40_HDRS.csv\n",
      "041\n",
      "SP41_HDRS.csv\n",
      "043\n",
      "SP43_HDRS.csv\n",
      "044\n",
      "SP44_HDRS.csv\n",
      "045\n",
      "SP45_HDRS.csv\n",
      "047\n",
      "SP47_HDRS.csv\n",
      "055\n",
      "SP55_HDRS.csv\n",
      "059\n",
      "SP59_HDRS.csv\n",
      "065\n",
      "SP65_HDRS.csv\n",
      "061\n",
      "SP61_HDRS.csv\n",
      "060\n",
      "SP60_HDRS.csv\n",
      "070\n",
      "SP70_HDRS.csv\n",
      "069\n",
      "SP69_HDRS.csv\n",
      "071\n",
      "SP71_HDRS.csv\n",
      "072\n",
      "SP72_HDRS.csv\n"
     ]
    }
   ],
   "source": [
    "for subject in SUBJECT_LIST:\n",
    "    \n",
    "    print(subject)\n",
    "    hdrs_17_with_dates = grouped_hdrs_df.get_group(subject).merge(grouped_date_df.get_group(subject), \n",
    "                                                                  how='inner', \n",
    "                                                                  on = 'Event Name')[['Record ID', 'hamd_17_score', 'Date', 'hamd_score']]\n",
    "    \n",
    "    HDRS_file_name = 'SP' + str(int(subject)) + '_HDRS.csv'\n",
    "    print(HDRS_file_name)\n",
    "    hdrs_17_with_dates.to_csv(SVAING_FILE_FOLDER + HDRS_file_name, index = False)\n"
   ]
  }
 ],
 "metadata": {
  "kernelspec": {
   "display_name": "sensecode",
   "language": "python",
   "name": "sensecode"
  },
  "language_info": {
   "codemirror_mode": {
    "name": "ipython",
    "version": 3
   },
   "file_extension": ".py",
   "mimetype": "text/x-python",
   "name": "python",
   "nbconvert_exporter": "python",
   "pygments_lexer": "ipython3",
   "version": "3.11.0"
  }
 },
 "nbformat": 4,
 "nbformat_minor": 5
}
