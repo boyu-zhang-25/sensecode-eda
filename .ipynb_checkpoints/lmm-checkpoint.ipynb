{
 "cells": [
  {
   "cell_type": "code",
   "execution_count": 1,
   "id": "28c65ff1-ba49-41c7-8f89-92c2ff9df852",
   "metadata": {},
   "outputs": [],
   "source": [
    "import pandas as pd\n",
    "import numpy as np\n",
    "import matplotlib.pyplot as plt\n",
    "import matplotlib.dates as mdates\n",
    "import seaborn as sns\n",
    "from matplotlib.colors import LogNorm, Normalize\n",
    "import os\n",
    "from datetime import datetime\n",
    "import matplotlib.dates as mdates\n",
    "from scipy.stats import zscore\n",
    "\n",
    "\n",
    "import statsmodels.api as sm\n",
    "import statsmodels.formula.api as smf\n",
    "from statsmodels.tools.sm_exceptions import ConvergenceWarning"
   ]
  },
  {
   "cell_type": "code",
   "execution_count": 2,
   "id": "1ca07864-8260-41ce-9d4f-595fcbd42500",
   "metadata": {},
   "outputs": [
    {
     "data": {
      "text/plain": [
       "'0.25S'"
      ]
     },
     "execution_count": 2,
     "metadata": {},
     "output_type": "execute_result"
    }
   ],
   "source": [
    "FS = 4 # E4 sampling rate\n",
    "\n",
    "DATA_FOLDER_PATH = '/media/bayesian-posterior/sdc/sensecode_data/cwt_data/'\n",
    "DATA_FOLDER = os.fsencode(DATA_FOLDER_PATH)\n",
    "\n",
    "# DAYS_ARRAY = np.asarray([0.5, 1, 3, 5, 7, 9, 11, 13, 15, 17, 19, 21, 23, 25, 27, 29, 31])\n",
    "DAYS_ARRAY = np.asarray([0.5, 1, 7])\n",
    "FREQ_ARRAY = 1 / (DAYS_ARRAY * 24 * 60 * 60) # for morlet\n",
    "FREQ_NAMES = [\"{:.1f}\".format(day)+' Day(s)' for day in DAYS_ARRAY]\n",
    "\n",
    "PANDAS_RESAMPLE_RATE = \"{:.2f}\".format(1/4)+'S' # find missing samples (datetime)\n",
    "PANDAS_RESAMPLE_RATE"
   ]
  },
  {
   "cell_type": "code",
   "execution_count": 3,
   "id": "cbc867e1-411e-4fca-8ac8-0461de00adf9",
   "metadata": {},
   "outputs": [],
   "source": [
    "HDRS_17_CUTOFF = 20\n",
    "HDRS_24_CUTOFF = 10\n",
    "RCI_HDRS_17 = 6\n",
    "\n",
    "HDRS_variant = 'hamd_17_score'\n",
    "\n",
    "LABEL_FOLDER_PATH = 'labels/'"
   ]
  },
  {
   "cell_type": "code",
   "execution_count": 4,
   "id": "e06b81a6-fde2-48df-a182-4e38246c2f1b",
   "metadata": {},
   "outputs": [],
   "source": [
    "def get_x_y(df_eda, \n",
    "            window_size,\n",
    "            subject,\n",
    "            HDRS_array, \n",
    "            HDRS_date):\n",
    "    \n",
    "    df_eda['rolling_power'] = df_eda['1.0 Day(s)'].rolling(window=window_size, center = True).max()\n",
    "    resampled_df = df_eda['rolling_power'].resample('D').max()\n",
    "    resampled_df.index = resampled_df.index.tz_localize(None)\n",
    "    # print(resampled_df.index)\n",
    "    t = resampled_df.index.to_pydatetime()\n",
    "    \n",
    "    assert len(HDRS_array) == len(HDRS_date)\n",
    "    x, y = [], []\n",
    "    \n",
    "    for idx, date in HDRS_date.items():\n",
    "        E4_start_date = t[0]\n",
    "        E4_end_date = t[-1]\n",
    "\n",
    "        if date[0].isdigit():\n",
    "            date_in_datetime = datetime.strptime(date, '%Y-%m-%d %H:%M:%S')\n",
    "            if date_in_datetime >= E4_start_date and date_in_datetime <= E4_end_date:\n",
    "                # print(date)\n",
    "                power = resampled_df[date.split(' ')[0]] \n",
    "                # print(power, type(power))\n",
    "                \n",
    "                if np.isnan(power) == False:\n",
    "                    x.append(power)\n",
    "                    y.append(HDRS_array[idx])\n",
    "                    \n",
    "    return x, y"
   ]
  },
  {
   "cell_type": "code",
   "execution_count": 5,
   "id": "d91ddd97-e7c7-42fe-8122-ea5df01e0ad3",
   "metadata": {
    "tags": []
   },
   "outputs": [
    {
     "name": "stdout",
     "output_type": "stream",
     "text": [
      "SP41\n",
      "SP71\n",
      "SP70\n",
      "SP36\n",
      "SP43\n",
      "SP22\n",
      "SP61\n",
      "SP15\n",
      "SP3\n",
      "SP40\n",
      "SP34\n",
      "SP69\n",
      "SP29\n",
      "SP60\n",
      "SP6\n",
      "SP65\n",
      "SP24\n",
      "SP16\n",
      "SP33\n",
      "SP45\n",
      "SP59\n",
      "SP27\n",
      "SP55\n",
      "SP2\n",
      "SP47\n",
      "SP21\n",
      "SP1\n",
      "SP12\n",
      "SP11\n",
      "SP5\n",
      "SP44\n",
      "SP30\n",
      "SP28\n",
      "SP72\n",
      "SP31\n"
     ]
    }
   ],
   "source": [
    "dummy_hdrs_list, dummy_power_list, dummy_subject_list = [], [], []\n",
    "\n",
    "for file in os.listdir(DATA_FOLDER):\n",
    "    \n",
    "    filename = os.fsdecode(file)\n",
    "    \n",
    "    if filename.endswith(\"cwt.h5\"):\n",
    "        \n",
    "        subject = filename.split('_')[0]\n",
    "        print(subject)\n",
    "        eda_filepath = DATA_FOLDER_PATH+filename\n",
    "        retrieved = pd.read_hdf(eda_filepath, 'df')\n",
    "        \n",
    "        HDRS_file_name = LABEL_FOLDER_PATH + subject + '_HDRS.csv'\n",
    "        HDRS_df = pd.read_csv(HDRS_file_name)\n",
    "        HDRS_array = HDRS_df[HDRS_variant].to_numpy()        \n",
    "        \n",
    "        \n",
    "        x, y = get_x_y(retrieved, \n",
    "            window_size = '7D',\n",
    "            subject = subject,\n",
    "            HDRS_array = HDRS_array, \n",
    "            HDRS_date = HDRS_df['Date'])\n",
    "        \n",
    "        \n",
    "        dummy_hdrs_list += y\n",
    "        dummy_power_list += x\n",
    "        dummy_subject_list += [subject] * len(y)\n",
    "        \n",
    "        \n",
    "df_lmm = pd.DataFrame({HDRS_variant : dummy_hdrs_list, 'power' : dummy_power_list, 'subject' : dummy_subject_list})"
   ]
  },
  {
   "cell_type": "code",
   "execution_count": 6,
   "id": "4e4e2ace-10ec-47a3-abfa-b8ff50f55dc5",
   "metadata": {},
   "outputs": [],
   "source": [
    "df_lmm.to_csv('lmm_data_7D_mean.csv', index=False) "
   ]
  },
  {
   "cell_type": "code",
   "execution_count": 7,
   "id": "bb9be57e-21b2-4d24-bc1c-291ff1eca2e8",
   "metadata": {},
   "outputs": [],
   "source": [
    "df_lmm = pd.read_csv('lmm_data_7D_mean.csv')  "
   ]
  },
  {
   "cell_type": "code",
   "execution_count": 8,
   "id": "b62531b9-1157-4c6b-9c2c-e5b23112d957",
   "metadata": {
    "tags": []
   },
   "outputs": [],
   "source": [
    "# df_lmm['power'] = df_lmm.groupby('subject', group_keys=False)['power'].apply(lambda x: (x - x.mean()) / x.std())\n"
   ]
  },
  {
   "cell_type": "code",
   "execution_count": 9,
   "id": "06f92bd3-c567-499b-93da-4e1c8e2263ae",
   "metadata": {},
   "outputs": [
    {
     "data": {
      "text/html": [
       "<div>\n",
       "<style scoped>\n",
       "    .dataframe tbody tr th:only-of-type {\n",
       "        vertical-align: middle;\n",
       "    }\n",
       "\n",
       "    .dataframe tbody tr th {\n",
       "        vertical-align: top;\n",
       "    }\n",
       "\n",
       "    .dataframe thead th {\n",
       "        text-align: right;\n",
       "    }\n",
       "</style>\n",
       "<table border=\"1\" class=\"dataframe\">\n",
       "  <thead>\n",
       "    <tr style=\"text-align: right;\">\n",
       "      <th></th>\n",
       "      <th>hamd_17_score</th>\n",
       "      <th>power</th>\n",
       "      <th>subject</th>\n",
       "    </tr>\n",
       "  </thead>\n",
       "  <tbody>\n",
       "    <tr>\n",
       "      <th>0</th>\n",
       "      <td>16.0</td>\n",
       "      <td>54.767736</td>\n",
       "      <td>SP41</td>\n",
       "    </tr>\n",
       "    <tr>\n",
       "      <th>1</th>\n",
       "      <td>14.0</td>\n",
       "      <td>51.138198</td>\n",
       "      <td>SP41</td>\n",
       "    </tr>\n",
       "    <tr>\n",
       "      <th>2</th>\n",
       "      <td>11.0</td>\n",
       "      <td>46.642458</td>\n",
       "      <td>SP41</td>\n",
       "    </tr>\n",
       "    <tr>\n",
       "      <th>3</th>\n",
       "      <td>12.0</td>\n",
       "      <td>60.781873</td>\n",
       "      <td>SP41</td>\n",
       "    </tr>\n",
       "    <tr>\n",
       "      <th>4</th>\n",
       "      <td>11.0</td>\n",
       "      <td>74.090799</td>\n",
       "      <td>SP41</td>\n",
       "    </tr>\n",
       "    <tr>\n",
       "      <th>...</th>\n",
       "      <td>...</td>\n",
       "      <td>...</td>\n",
       "      <td>...</td>\n",
       "    </tr>\n",
       "    <tr>\n",
       "      <th>416</th>\n",
       "      <td>6.0</td>\n",
       "      <td>119.670368</td>\n",
       "      <td>SP31</td>\n",
       "    </tr>\n",
       "    <tr>\n",
       "      <th>417</th>\n",
       "      <td>11.0</td>\n",
       "      <td>142.217990</td>\n",
       "      <td>SP31</td>\n",
       "    </tr>\n",
       "    <tr>\n",
       "      <th>418</th>\n",
       "      <td>4.0</td>\n",
       "      <td>72.876819</td>\n",
       "      <td>SP31</td>\n",
       "    </tr>\n",
       "    <tr>\n",
       "      <th>419</th>\n",
       "      <td>1.0</td>\n",
       "      <td>70.278987</td>\n",
       "      <td>SP31</td>\n",
       "    </tr>\n",
       "    <tr>\n",
       "      <th>420</th>\n",
       "      <td>1.0</td>\n",
       "      <td>94.975400</td>\n",
       "      <td>SP31</td>\n",
       "    </tr>\n",
       "  </tbody>\n",
       "</table>\n",
       "<p>421 rows × 3 columns</p>\n",
       "</div>"
      ],
      "text/plain": [
       "     hamd_17_score       power subject\n",
       "0             16.0   54.767736    SP41\n",
       "1             14.0   51.138198    SP41\n",
       "2             11.0   46.642458    SP41\n",
       "3             12.0   60.781873    SP41\n",
       "4             11.0   74.090799    SP41\n",
       "..             ...         ...     ...\n",
       "416            6.0  119.670368    SP31\n",
       "417           11.0  142.217990    SP31\n",
       "418            4.0   72.876819    SP31\n",
       "419            1.0   70.278987    SP31\n",
       "420            1.0   94.975400    SP31\n",
       "\n",
       "[421 rows x 3 columns]"
      ]
     },
     "execution_count": 9,
     "metadata": {},
     "output_type": "execute_result"
    }
   ],
   "source": [
    "df_lmm"
   ]
  },
  {
   "cell_type": "code",
   "execution_count": 10,
   "id": "8acb1741-d69e-4397-8da1-b2721d9fddc5",
   "metadata": {},
   "outputs": [
    {
     "name": "stdout",
     "output_type": "stream",
     "text": [
      "           Mixed Linear Model Regression Results\n",
      "===========================================================\n",
      "Model:            MixedLM Dependent Variable: hamd_17_score\n",
      "No. Observations: 421     Method:             REML         \n",
      "No. Groups:       35      Scale:              15.8883      \n",
      "Min. group size:  7       Log-Likelihood:     -1237.0323   \n",
      "Max. group size:  13      Converged:          Yes          \n",
      "Mean group size:  12.0                                     \n",
      "------------------------------------------------------------\n",
      "             Coef.   Std.Err.    z     P>|z|  [0.025  0.975]\n",
      "------------------------------------------------------------\n",
      "Intercept    13.101     0.951  13.775  0.000  11.237  14.965\n",
      "power         0.001     0.001   0.776  0.438  -0.001   0.003\n",
      "Group Var    26.926     1.802                               \n",
      "===========================================================\n",
      "\n"
     ]
    }
   ],
   "source": [
    "function = HDRS_variant + ' ~ power'\n",
    "\n",
    "md = smf.mixedlm(function, df_lmm, groups=df_lmm['subject'])\n",
    "mdf = md.fit(method=[\"lbfgs\"])\n",
    "print(mdf.summary())"
   ]
  },
  {
   "cell_type": "code",
   "execution_count": null,
   "id": "1ab13b56-0c90-4c93-a1bd-482c8bde0a09",
   "metadata": {},
   "outputs": [],
   "source": []
  }
 ],
 "metadata": {
  "kernelspec": {
   "display_name": "sensecode",
   "language": "python",
   "name": "sensecode"
  },
  "language_info": {
   "codemirror_mode": {
    "name": "ipython",
    "version": 3
   },
   "file_extension": ".py",
   "mimetype": "text/x-python",
   "name": "python",
   "nbconvert_exporter": "python",
   "pygments_lexer": "ipython3",
   "version": "3.11.0"
  }
 },
 "nbformat": 4,
 "nbformat_minor": 5
}
