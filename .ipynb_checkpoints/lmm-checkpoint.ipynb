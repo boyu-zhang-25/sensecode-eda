{
 "cells": [
  {
   "cell_type": "code",
   "execution_count": 1,
   "id": "28c65ff1-ba49-41c7-8f89-92c2ff9df852",
   "metadata": {},
   "outputs": [],
   "source": [
    "import pandas as pd\n",
    "import numpy as np\n",
    "import matplotlib.pyplot as plt\n",
    "import matplotlib.dates as mdates\n",
    "import seaborn as sns\n",
    "import os\n",
    "from datetime import datetime, timedelta\n",
    "import matplotlib.dates as mdates\n",
    "from scipy.stats import zscore\n",
    "from scipy import signal\n",
    "\n",
    "import statsmodels.api as sm\n",
    "import statsmodels.formula.api as smf\n"
   ]
  },
  {
   "cell_type": "code",
   "execution_count": 2,
   "id": "1ca07864-8260-41ce-9d4f-595fcbd42500",
   "metadata": {},
   "outputs": [],
   "source": [
    "FS = 4 # E4 sampling rate\n",
    "FREQ_ARRAY = np.append(np.arange(23, 26, 1), np.arange(6*24, 9*24, 24)) # for morlet\n",
    "PANDAS_RESAMPLE_RATE = \"{:.4f}\".format(1/FS)+'S' # find missing samples (datetime)\n",
    "\n",
    "MODALITY = 'hr'\n"
   ]
  },
  {
   "cell_type": "code",
   "execution_count": 3,
   "id": "cbc867e1-411e-4fca-8ac8-0461de00adf9",
   "metadata": {},
   "outputs": [],
   "source": [
    "HDRS_17_CUTOFF = 20\n",
    "HDRS_24_CUTOFF = 10\n",
    "RCI_HDRS_17 = 6\n",
    "\n",
    "HDRS_variant = 'hamd_17_score'\n",
    "\n",
    "LABEL_FOLDER_PATH = 'labels/'\n",
    "SAVE_CWT_FOLDER = '/media/bayesian-posterior/sdc/sensecode_data/' + MODALITY + '/cwt_' + MODALITY + '_all_freq/'\n",
    "\n",
    "DATA_FOLDER_PATH = '/media/bayesian-posterior/sdc/sensecode_data/' + MODALITY + '/'\n",
    "DATA_FOLDER = os.fsencode(DATA_FOLDER_PATH)"
   ]
  },
  {
   "cell_type": "code",
   "execution_count": 4,
   "id": "e06b81a6-fde2-48df-a182-4e38246c2f1b",
   "metadata": {},
   "outputs": [],
   "source": [
    "def get_x_y(df, \n",
    "            subject,\n",
    "            HDRS_df, \n",
    "            HDRS_variant, \n",
    "            test_freq = str(1.0*24)):\n",
    "    \n",
    "    resampled_df = df[test_freq].resample('D').mean()\n",
    "    resampled_df.index = resampled_df.index.tz_localize(None)\n",
    "    # print(resampled_df.index)\n",
    "\n",
    "    t = resampled_df.index.to_pydatetime()\n",
    "    E4_start_date = t[0]\n",
    "    E4_end_date = t[-1]\n",
    "\n",
    "    # assert len(HDRS_array) == len(HDRS_date)\n",
    "    x, y = [], []\n",
    "    HDRS_date = HDRS_df['Date']\n",
    "    \n",
    "    for idx in range(len(HDRS_date)):\n",
    "\n",
    "        # left = datetime.strptime(HDRS_date.iloc[idx - 1], '%Y-%m-%d %H:%M:%S')\n",
    "        date = datetime.strptime(HDRS_date.iloc[idx], '%Y-%m-%d %H:%M:%S')\n",
    "        \n",
    "        if date < E4_start_date:\n",
    "            continue\n",
    "        elif date <= E4_end_date:\n",
    "            if idx == 0:\n",
    "                left = E4_start_date\n",
    "            else:\n",
    "                prev_date = datetime.strptime(HDRS_date.iloc[idx - 1], '%Y-%m-%d %H:%M:%S')\n",
    "                if prev_date < E4_start_date:\n",
    "                    left = E4_start_date\n",
    "                else:\n",
    "                    left = prev_date\n",
    "            right = date\n",
    "        else:\n",
    "            prev_date = datetime.strptime(HDRS_date.iloc[idx - 1], '%Y-%m-%d %H:%M:%S')\n",
    "            if prev_date >= E4_end_date:\n",
    "                break\n",
    "            else:\n",
    "                left = prev_date\n",
    "                right = E4_end_date\n",
    "        \n",
    "        # left.strftime('%Y-%m-%d')\n",
    "        # left = right - timedelta(days = 1)\n",
    "        segment = resampled_df.loc[left : right]    \n",
    "        # segment = resampled_df.loc[right] \n",
    "        power = np.mean(segment)\n",
    "        # print(power, type(power))\n",
    "\n",
    "        x.append(power)\n",
    "        y.append(HDRS_df[HDRS_variant].iloc[idx])\n",
    "        \n",
    "    return x, y"
   ]
  },
  {
   "cell_type": "code",
   "execution_count": 5,
   "id": "d91ddd97-e7c7-42fe-8122-ea5df01e0ad3",
   "metadata": {
    "tags": []
   },
   "outputs": [],
   "source": [
    "dummy_hdrs_list, dummy_power_list, dummy_subject_list = [], [], []\n",
    "\n",
    "for file in os.listdir(SAVE_CWT_FOLDER):\n",
    "    \n",
    "    filename = os.fsdecode(file)\n",
    "    \n",
    "    if filename.endswith(\"cwt.h5\"):\n",
    "        \n",
    "        subject = filename.split('_')[0]\n",
    "        eda_filepath = SAVE_CWT_FOLDER+filename\n",
    "        df_cwt = pd.read_hdf(eda_filepath, 'df')\n",
    "        # print(subject)\n",
    "        \n",
    "        HDRS_file_name = LABEL_FOLDER_PATH + subject + '_HDRS.csv'\n",
    "        HDRS_df = pd.read_csv(HDRS_file_name)\n",
    "        HDRS_df.dropna(inplace = True) # in case of missed HDRS assessment\n",
    "        HDRS_df = HDRS_df.reset_index()      \n",
    "        \n",
    "        x, y = get_x_y(df_cwt, \n",
    "                        subject = subject,\n",
    "                        HDRS_df = HDRS_df, \n",
    "                       HDRS_variant = HDRS_variant)\n",
    "        \n",
    "        x.sort()\n",
    "        y.sort(reverse = True)\n",
    "        \n",
    "        dummy_hdrs_list += y\n",
    "        dummy_power_list += x\n",
    "        dummy_subject_list += [subject] * len(y)\n",
    "        \n",
    "        \n",
    "df_lmm = pd.DataFrame({HDRS_variant : dummy_hdrs_list, 'power' : dummy_power_list, 'subject' : dummy_subject_list})"
   ]
  },
  {
   "cell_type": "code",
   "execution_count": 6,
   "id": "4575b0c0-2010-4c5f-8099-ab555ce4b9d9",
   "metadata": {},
   "outputs": [],
   "source": [
    "lmm_df_name = 'lmm_' + MODALITY + '_data.csv'\n"
   ]
  },
  {
   "cell_type": "code",
   "execution_count": 7,
   "id": "bb9be57e-21b2-4d24-bc1c-291ff1eca2e8",
   "metadata": {},
   "outputs": [],
   "source": [
    "df_lmm = pd.read_csv(lmm_df_name)  "
   ]
  },
  {
   "cell_type": "code",
   "execution_count": 8,
   "id": "8acb1741-d69e-4397-8da1-b2721d9fddc5",
   "metadata": {},
   "outputs": [
    {
     "data": {
      "text/html": [
       "<table class=\"simpletable\">\n",
       "<tr>\n",
       "       <td>Model:</td>       <td>MixedLM</td> <td>Dependent Variable:</td> <td>hamd_17_score</td>\n",
       "</tr>\n",
       "<tr>\n",
       "  <td>No. Observations:</td>   <td>433</td>         <td>Method:</td>           <td>REML</td>     \n",
       "</tr>\n",
       "<tr>\n",
       "     <td>No. Groups:</td>      <td>35</td>          <td>Scale:</td>           <td>15.9806</td>   \n",
       "</tr>\n",
       "<tr>\n",
       "  <td>Min. group size:</td>     <td>8</td>      <td>Log-Likelihood:</td>    <td>-1271.0317</td>  \n",
       "</tr>\n",
       "<tr>\n",
       "  <td>Max. group size:</td>    <td>13</td>        <td>Converged:</td>           <td>Yes</td>     \n",
       "</tr>\n",
       "<tr>\n",
       "  <td>Mean group size:</td>   <td>12.4</td>            <td></td>                 <td></td>       \n",
       "</tr>\n",
       "</table>\n",
       "<table class=\"simpletable\">\n",
       "<tr>\n",
       "      <td></td>       <th>Coef.</th> <th>Std.Err.</th>    <th>z</th>   <th>P>|z|</th> <th>[0.025</th> <th>0.975]</th>\n",
       "</tr>\n",
       "<tr>\n",
       "  <th>Intercept</th> <td>12.954</td>   <td>0.887</td>  <td>14.605</td> <td>0.000</td> <td>11.216</td> <td>14.692</td>\n",
       "</tr>\n",
       "<tr>\n",
       "  <th>power</th>      <td>0.004</td>   <td>0.002</td>   <td>2.340</td> <td>0.019</td>  <td>0.001</td>  <td>0.008</td>\n",
       "</tr>\n",
       "<tr>\n",
       "  <th>Group Var</th> <td>25.572</td>   <td>1.702</td>     <td></td>      <td></td>       <td></td>       <td></td>   \n",
       "</tr>\n",
       "</table>"
      ],
      "text/plain": [
       "<class 'statsmodels.iolib.summary2.Summary'>\n",
       "\"\"\"\n",
       "           Mixed Linear Model Regression Results\n",
       "===========================================================\n",
       "Model:            MixedLM Dependent Variable: hamd_17_score\n",
       "No. Observations: 433     Method:             REML         \n",
       "No. Groups:       35      Scale:              15.9806      \n",
       "Min. group size:  8       Log-Likelihood:     -1271.0317   \n",
       "Max. group size:  13      Converged:          Yes          \n",
       "Mean group size:  12.4                                     \n",
       "------------------------------------------------------------\n",
       "             Coef.   Std.Err.    z     P>|z|  [0.025  0.975]\n",
       "------------------------------------------------------------\n",
       "Intercept    12.954     0.887  14.605  0.000  11.216  14.692\n",
       "power         0.004     0.002   2.340  0.019   0.001   0.008\n",
       "Group Var    25.572     1.702                               \n",
       "===========================================================\n",
       "\n",
       "\"\"\""
      ]
     },
     "execution_count": 8,
     "metadata": {},
     "output_type": "execute_result"
    }
   ],
   "source": [
    "function = HDRS_variant + ' ~ power'\n",
    "\n",
    "md = smf.mixedlm(function, \n",
    "                 df_lmm, \n",
    "                 groups = df_lmm['subject'])\n",
    "\n",
    "mdf = md.fit(method=[\"lbfgs\"])\n",
    "mdf.summary()"
   ]
  },
  {
   "cell_type": "code",
   "execution_count": 9,
   "id": "4e4e2ace-10ec-47a3-abfa-b8ff50f55dc5",
   "metadata": {},
   "outputs": [],
   "source": [
    "\n",
    "# df_lmm.to_csv(lmm_df_name, index=False) "
   ]
  },
  {
   "cell_type": "code",
   "execution_count": null,
   "id": "1ab13b56-0c90-4c93-a1bd-482c8bde0a09",
   "metadata": {},
   "outputs": [],
   "source": []
  }
 ],
 "metadata": {
  "kernelspec": {
   "display_name": "sensecode",
   "language": "python",
   "name": "sensecode"
  },
  "language_info": {
   "codemirror_mode": {
    "name": "ipython",
    "version": 3
   },
   "file_extension": ".py",
   "mimetype": "text/x-python",
   "name": "python",
   "nbconvert_exporter": "python",
   "pygments_lexer": "ipython3",
   "version": "3.11.0"
  }
 },
 "nbformat": 4,
 "nbformat_minor": 5
}
