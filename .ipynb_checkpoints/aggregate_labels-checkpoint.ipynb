{
 "cells": [
  {
   "cell_type": "code",
   "execution_count": 1,
   "id": "83f1019c-a09b-4b64-af3c-ea0b298f47ef",
   "metadata": {},
   "outputs": [],
   "source": [
    "import pandas as pd\n",
    "import numpy as np"
   ]
  },
  {
   "cell_type": "code",
   "execution_count": 8,
   "id": "8c278fed-69e4-4dd9-8cbb-cf98de185ca1",
   "metadata": {},
   "outputs": [],
   "source": [
    "xls = pd.ExcelFile('/home/bayesian-posterior/Desktop/sensecode-eda/HDRS Scores 12.20.22.xlsx')\n",
    "hamd_df = pd.read_excel(xls, 'SensorsBasedCharacte-AllSubject')\n",
    "date_df = pd.read_excel(xls, 'Visit Dates')"
   ]
  },
  {
   "cell_type": "code",
   "execution_count": null,
   "id": "98d3d6a4-9ba1-4c77-b42a-b3994b612d8f",
   "metadata": {},
   "outputs": [],
   "source": []
  }
 ],
 "metadata": {
  "kernelspec": {
   "display_name": "sensecode",
   "language": "python",
   "name": "sensecode"
  },
  "language_info": {
   "codemirror_mode": {
    "name": "ipython",
    "version": 3
   },
   "file_extension": ".py",
   "mimetype": "text/x-python",
   "name": "python",
   "nbconvert_exporter": "python",
   "pygments_lexer": "ipython3",
   "version": "3.11.0"
  }
 },
 "nbformat": 4,
 "nbformat_minor": 5
}
