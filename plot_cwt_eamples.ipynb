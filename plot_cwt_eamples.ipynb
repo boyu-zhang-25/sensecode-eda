{
 "cells": [
  {
   "cell_type": "code",
   "execution_count": 1,
   "id": "28c65ff1-ba49-41c7-8f89-92c2ff9df852",
   "metadata": {},
   "outputs": [],
   "source": [
    "import pandas as pd\n",
    "import numpy as np\n",
    "from scipy.signal import butter, sosfiltfilt\n",
    "\n",
    "import matplotlib.pyplot as plt\n",
    "import matplotlib.dates as mdates\n",
    "import seaborn as sns\n",
    "from scipy.stats import zscore\n",
    "from matplotlib.colors import LogNorm\n",
    "import os\n",
    "import pycwt as cwt\n",
    "import pickle\n",
    "import datetime as datetime\n",
    "import operator\n"
   ]
  },
  {
   "cell_type": "code",
   "execution_count": 2,
   "id": "1ca07864-8260-41ce-9d4f-595fcbd42500",
   "metadata": {},
   "outputs": [
    {
     "data": {
      "text/plain": [
       "'0.25S'"
      ]
     },
     "execution_count": 2,
     "metadata": {},
     "output_type": "execute_result"
    }
   ],
   "source": [
    "FS = 4 # E4 sampling rate\n",
    "FREQ_ARRAY = np.append(np.arange(23, 26, 1), np.arange(6*24, 9*24, 24)) # for morlet\n",
    "PANDAS_RESAMPLE_RATE = \"{:.2f}\".format(1/FS)+'S' # find missing samples (datetime)\n",
    "\n",
    "MODALITY = 'eda'\n",
    "\n",
    "# wavelet and filter variables                    \n",
    "mother = cwt.Morlet(6)\n",
    "order = 2 # butter bandpass filter\n",
    "\n",
    "PANDAS_RESAMPLE_RATE"
   ]
  },
  {
   "cell_type": "code",
   "execution_count": 3,
   "id": "f6fd477a-8b7c-473b-803f-1bb81cb47fe3",
   "metadata": {},
   "outputs": [],
   "source": [
    "HDRS_17_CUTOFF = 20\n",
    "HDRS_24_CUTOFF = 10\n",
    "RCI_HDRS_17 = 6\n",
    "\n",
    "HDRS_variant = 'hamd_17_score'\n",
    "\n",
    "LABEL_FOLDER_PATH = 'labels/'\n",
    "SAVE_CWT_FOLDER = '/media/bayesian-posterior/sdc/sensecode_data/' + MODALITY + '/cwt_' + MODALITY + '_all_freq/'\n",
    "\n",
    "DATA_FOLDER_PATH = '/media/bayesian-posterior/sdc/sensecode_data/' + MODALITY + '/'\n",
    "DATA_FOLDER = os.fsencode(DATA_FOLDER_PATH)"
   ]
  },
  {
   "cell_type": "code",
   "execution_count": 4,
   "id": "140cfa97-999d-4d4d-95e7-5771d02eb901",
   "metadata": {},
   "outputs": [],
   "source": [
    "# Filter functions\n",
    "# To use: butter_bandpass_filter(signal, lowcut, highcut, fs, order=1)\n",
    "# def butter_bandpass(lowcut, highcut, fs, order=5):\n",
    "#         nyq = 0.5 * fs\n",
    "#         low = lowcut / nyq\n",
    "#         high = highcut / nyq\n",
    "#         sos = butter(order, [low, high], analog=False, btype='band', output='sos')\n",
    "#         return sos\n",
    "\n",
    "\n",
    "def butter_bandpass_filter(data, lowcut, highcut, fs, order=5):\n",
    "#         sos = butter_bandpass(lowcut, highcut, fs, order=order)\n",
    "        sos = butter(order, [lowcut, highcut], analog=False, btype='band', output='sos')\n",
    "        y = sosfiltfilt(sos, data)\n",
    "        return y"
   ]
  },
  {
   "cell_type": "code",
   "execution_count": 5,
   "id": "3e9d4982-7eca-4271-8a45-e0794f07bdc5",
   "metadata": {},
   "outputs": [],
   "source": [
    "def plot_signal(df,\n",
    "                column,\n",
    "                subject, \n",
    "                tick_freq = 'W', \n",
    "                fs = FS,\n",
    "                y_label = MODALITY):\n",
    "    \n",
    "    tick_freq_dict = {'D':FS*60*60*24, 'W':FS*60*60*24*7}\n",
    "    t = df.index[::tick_freq_dict[tick_freq]]\n",
    "    \n",
    "    fig, ax = plt.subplots(figsize=(15, 2))     \n",
    "    x = df[column]\n",
    "    ax.plot(range(len(df.index)), x)\n",
    "    # plt.legend(loc=1)\n",
    "    \n",
    "    ax.set_xticks(range(len(df.index))[::tick_freq_dict[tick_freq]], [xt.to_pydatetime().strftime('%Y-%m-%d') for xt in t], rotation='vertical')\n",
    "    ax.set_title(subject)\n",
    "    ax.set_xlabel('Date')\n",
    "    ax.set_ylabel(y_label)\n",
    "    plt.grid()"
   ]
  },
  {
   "cell_type": "code",
   "execution_count": 6,
   "id": "80f6b3a9-d0fd-4422-8491-9293b437f974",
   "metadata": {
    "tags": []
   },
   "outputs": [],
   "source": [
    "def plot_morlet(df, \n",
    "                column, \n",
    "                tick_freq, \n",
    "                subject): \n",
    "    \n",
    "    resampled_df = df[column].resample(tick_freq).mean()\n",
    "    cwtm = resampled_df.to_numpy().T # (len(freq_list), len(t))\n",
    "\n",
    "    tick_freq_dict = {'T':60*24*7, 'H':24*7, 'D':7, 'W':1}\n",
    "    xtick_freq = tick_freq_dict[tick_freq]\n",
    "\n",
    "    fig, ax = plt.subplots(figsize=(15, 2)) \n",
    "    t = resampled_df.index.to_pydatetime()\n",
    "\n",
    "    sns.heatmap(cwtm,\n",
    "                norm=LogNorm(vmin=cwtm.min(), vmax=cwtm.max()),\n",
    "                cmap=\"Blues\",\n",
    "                ax=ax)\n",
    "\n",
    "    # plt.legend(loc=1)\n",
    "\n",
    "\n",
    "    ax.set_xticks(np.arange(len(t))[::xtick_freq], [xt.strftime('%Y-%m-%d') for xt in t[::xtick_freq]], rotation='vertical')\n",
    "    ax.set_yticks(np.arange(len(column))+0.5, column, rotation='horizontal')\n",
    "    ax.set_title(subject, y = 1.1)"
   ]
  },
  {
   "cell_type": "code",
   "execution_count": 7,
   "id": "ad9c1579-3df5-4b1f-8e75-779b13cbfc91",
   "metadata": {
    "tags": []
   },
   "outputs": [
    {
     "name": "stdout",
     "output_type": "stream",
     "text": [
      "SP41 0.376 69\n",
      "SP71 0.813 88\n",
      "SP70 0.605 81\n",
      "SP36 0.608 93\n",
      "SP43 0.577 84\n",
      "SP22 0.886 82\n",
      "SP61 0.856 83\n",
      "SP15 0.482 88\n",
      "SP3 0.721 85\n",
      "SP40 0.740 83\n",
      "SP34 0.800 85\n",
      "SP69 0.363 82\n",
      "SP29 0.872 89\n",
      "SP60 0.739 85\n",
      "SP6 0.858 84\n",
      "SP65 0.738 85\n",
      "SP24 0.908 86\n",
      "SP16 0.778 85\n",
      "SP33 0.827 84\n",
      "SP45 0.734 94\n",
      "SP59 0.802 84\n",
      "SP27 0.506 62\n",
      "SP55 0.712 84\n",
      "SP2 0.825 85\n",
      "SP47 0.935 85\n",
      "SP21 0.496 81\n",
      "SP1 0.773 85\n",
      "SP12 0.600 85\n",
      "SP11 0.843 85\n",
      "SP5 0.531 84\n",
      "SP44 0.568 86\n",
      "SP30 0.650 83\n",
      "SP28 0.749 86\n",
      "SP72 0.836 85\n",
      "SP31 0.676 82\n"
     ]
    }
   ],
   "source": [
    "circadian_f = '24.0'\n",
    "weekly_f = '168.0'\n",
    "\n",
    "worn_percent_list = []\n",
    "day_length_list = []\n",
    "\n",
    "\n",
    "for file in os.listdir(SAVE_CWT_FOLDER):\n",
    "    \n",
    "    filename = os.fsdecode(file)\n",
    "    \n",
    "    if filename.endswith(\"cwt.h5\"):\n",
    "        \n",
    "        subject = filename.split('_')[0]\n",
    "        eda_filepath = SAVE_CWT_FOLDER+filename\n",
    "        df_cwt = pd.read_hdf(eda_filepath, 'df')        \n",
    "\n",
    "        raw_filepath = DATA_FOLDER_PATH + subject + '_' + MODALITY + '_worn_left.h5'        \n",
    "        raw_signal_df = pd.read_hdf(raw_filepath)\n",
    "        worn_length = len(raw_signal_df)\n",
    "        \n",
    "        raw_signal_df = raw_signal_df.resample(PANDAS_RESAMPLE_RATE).mean() # NaN for missing data\n",
    "        resampled_length = len(raw_signal_df)\n",
    "        \n",
    "        worn_percent = worn_length / resampled_length\n",
    "        worn_percent_list.append(worn_percent)\n",
    "        \n",
    "        raw_signal_df = raw_signal_df.resample('D').mean() \n",
    "        day_length = len(raw_signal_df)\n",
    "        day_length_list.append(day_length)\n",
    "    \n",
    "        print(subject, \"{:.3f}\".format(worn_percent), day_length)\n",
    "    \n",
    "#         if worn_percent > 0.9: \n",
    "#             plot_signal(raw_signal_df, \n",
    "#                         column = MODALITY, \n",
    "#                         subject = subject)\n",
    "        \n",
    "#             cwt_filepath = SAVE_CWT_FOLDER + subject + '_cwt.h5'\n",
    "#             df_cwt = pd.read_hdf(cwt_filepath)\n",
    "\n",
    "#             plot_morlet(df_cwt, \n",
    "#                         column = [circadian_f], \n",
    "#                         tick_freq = 'H', \n",
    "#                         subject = subject)\n",
    "\n",
    "#             raw_signal_df.fillna(raw_signal_df[MODALITY].median(), inplace=True)\n",
    "\n",
    "#             circadian_freq = float(circadian_f)\n",
    "#             raw_signal_df['bandpassed_' + circadian_f] = butter_bandpass_filter(raw_signal_df[MODALITY], \n",
    "#                                                                                lowcut = 1/((circadian_freq + (1/3)*circadian_freq) * 60 * 60), \n",
    "#                                                                                highcut = 1/((circadian_freq - (1/3)*circadian_freq) * 60 * 60), \n",
    "#                                                                                fs = FS, \n",
    "#                                                                                order=order)\n",
    "\n",
    "#             plot_signal(raw_signal_df, \n",
    "#                         y_label = MODALITY, \n",
    "#                         column = 'bandpassed_' + circadian_f, \n",
    "#                         subject = subject)\n",
    "\n",
    "#             weekly_freq = float(weekly_f)\n",
    "#             raw_signal_df['bandpassed_' + weekly_f] = butter_bandpass_filter(raw_signal_df[MODALITY], \n",
    "#                                                                                lowcut = 1/((weekly_freq + (1/3)*weekly_freq) * 60 * 60), \n",
    "#                                                                                highcut = 1/((weekly_freq - (1/3)*weekly_freq) * 60 * 60), \n",
    "#                                                                                fs = FS, \n",
    "#                                                                                order=order)\n",
    "\n",
    "#             plot_signal(raw_signal_df, \n",
    "#                         y_label = MODALITY, \n",
    "#                         column = 'bandpassed_' + weekly_f, \n",
    "#                         subject = subject)\n",
    "\n"
   ]
  },
  {
   "cell_type": "code",
   "execution_count": 14,
   "id": "d7895db8-7840-4c72-bdd2-14ab0a8afc15",
   "metadata": {},
   "outputs": [
    {
     "data": {
      "image/png": "[encoded data removed]",
      "text/plain": [
       "<Figure size 640x480 with 1 Axes>"
      ]
     },
     "metadata": {},
     "output_type": "display_data"
    }
   ],
   "source": [
    "n, bins, patches = plt.hist(worn_percent_list, 25, alpha=0.75)\n",
    "\n",
    "\n",
    "plt.xlabel('% of Time E4 was Worn')\n",
    "plt.ylabel('# of Patients')\n",
    "plt.grid(True)\n",
    "plt.show()"
   ]
  },
  {
   "cell_type": "code",
   "execution_count": 15,
   "id": "0739aedb-1363-4575-a4e1-ef942af239d4",
   "metadata": {},
   "outputs": [
    {
     "data": {
      "image/png": "[encoded data removed]",
      "text/plain": [
       "<Figure size 640x480 with 1 Axes>"
      ]
     },
     "metadata": {},
     "output_type": "display_data"
    }
   ],
   "source": [
    "n, bins, patches = plt.hist(day_length_list, 25, alpha=0.75)\n",
    "\n",
    "\n",
    "plt.xlabel('% of Days Participated')\n",
    "plt.ylabel('# of Patients')\n",
    "plt.grid(True)\n",
    "plt.show()"
   ]
  },
  {
   "cell_type": "code",
   "execution_count": 8,
   "id": "e9211462-6550-4731-ba5c-641fa226d68c",
   "metadata": {},
   "outputs": [
    {
     "name": "stdout",
     "output_type": "stream",
     "text": [
      "0.7080590467278376 0.14833892196950252\n",
      "83.91428571428571 5.352550412501254\n"
     ]
    }
   ],
   "source": [
    "print(np.mean(worn_percent_list), np.std(worn_percent_list))\n",
    "\n",
    "print(np.mean(day_length_list), np.std(day_length_list))"
   ]
  },
  {
   "cell_type": "code",
   "execution_count": null,
   "id": "a62cdeef-f98e-4ef6-9072-642cd6ed8cb0",
   "metadata": {},
   "outputs": [],
   "source": []
  }
 ],
 "metadata": {
  "kernelspec": {
   "display_name": "sensecode",
   "language": "python",
   "name": "sensecode"
  },
  "language_info": {
   "codemirror_mode": {
    "name": "ipython",
    "version": 3
   },
   "file_extension": ".py",
   "mimetype": "text/x-python",
   "name": "python",
   "nbconvert_exporter": "python",
   "pygments_lexer": "ipython3",
   "version": "3.11.0"
  }
 },
 "nbformat": 4,
 "nbformat_minor": 5
}
