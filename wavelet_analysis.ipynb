{
 "cells": [
  {
   "cell_type": "code",
   "execution_count": 1,
   "id": "28c65ff1-ba49-41c7-8f89-92c2ff9df852",
   "metadata": {},
   "outputs": [],
   "source": [
    "import pandas as pd\n",
    "import numpy as np\n",
    "import scipy.signal as signal\n",
    "import matplotlib.pyplot as plt\n",
    "import matplotlib.dates as mdates\n",
    "import seaborn as sns\n",
    "from scipy.stats import zscore\n",
    "from matplotlib.colors import LogNorm, Normalize\n"
   ]
  },
  {
   "cell_type": "code",
   "execution_count": 2,
   "id": "b4d02679-03dc-4b3c-8a7f-33cc7004fbc7",
   "metadata": {},
   "outputs": [],
   "source": [
    "eda_filepath = '/media/bayesian-posterior/sdc/sensecode_data/SP1_eda_worn_left.h5'"
   ]
  },
  {
   "cell_type": "code",
   "execution_count": 7,
   "id": "1ca07864-8260-41ce-9d4f-595fcbd42500",
   "metadata": {},
   "outputs": [
    {
     "data": {
      "text/plain": [
       "'0.25S'"
      ]
     },
     "execution_count": 7,
     "metadata": {},
     "output_type": "execute_result"
    }
   ],
   "source": [
    "FS = 4 # E4 sampling rate\n",
    "\n",
    "# DAYS_ARRAY = np.asarray([0.5, 1, 2, 3, 4, 5, 6, 7])\n",
    "DAYS_ARRAY = np.asarray([0.5, 1, 7])\n",
    "FREQ_ARRAY = 1 / (DAYS_ARRAY * 24 * 60 * 60) # for morlet\n",
    "FREQ_NAMES = [\"{:.1f}\".format(day)+' Day(s)' for day in DAYS_ARRAY]\n",
    "\n",
    "PANDAS_RESAMPLE_RATE = \"{:.2f}\".format(1/4)+'S' # find missing samples (datetime)\n",
    "PANDAS_RESAMPLE_RATE"
   ]
  },
  {
   "cell_type": "code",
   "execution_count": 4,
   "id": "3cae2c66-d5fc-4a38-a6b8-4bd3c9c1ef7c",
   "metadata": {},
   "outputs": [],
   "source": [
    "df_eda = pd.read_hdf(eda_filepath)"
   ]
  },
  {
   "cell_type": "code",
   "execution_count": 5,
   "id": "3e9d4982-7eca-4271-8a45-e0794f07bdc5",
   "metadata": {},
   "outputs": [],
   "source": [
    "def plot_signal(df_eda,\n",
    "                fs,\n",
    "                label,\n",
    "                ylim = None):\n",
    "    \n",
    "    plt.figure(figsize=(15, 5))\n",
    "    \n",
    "    t = df_eda.index.to_series()\n",
    "    x = df_eda[label]\n",
    "    xtick_freq = int(fs*60*60*24*7)\n",
    "    \n",
    "    plt.plot(range(len(t)), x, label = label)\n",
    "    plt.legend(loc=1)\n",
    "    plt.xticks(range(len(t))[::xtick_freq], t[::xtick_freq], rotation='vertical')\n",
    "\n",
    "    if ylim is not None:\n",
    "        plt.ylim(ylim)\n",
    "    plt.xlabel('Date')\n",
    "    plt.ylabel('EDA [uS]')\n",
    "    plt.grid()"
   ]
  },
  {
   "cell_type": "code",
   "execution_count": 6,
   "id": "52240ad4-c3cc-4da9-9b6e-819a6247dc50",
   "metadata": {},
   "outputs": [],
   "source": [
    "# plot_signal(df_eda = df_eda, \n",
    "#             label = 'eda',\n",
    "#             fs = FS)"
   ]
  },
  {
   "cell_type": "code",
   "execution_count": 7,
   "id": "da0e5d9b-b2dc-4368-b80a-ced6444780a1",
   "metadata": {},
   "outputs": [],
   "source": [
    "#this method implements the method from https://www.nature.com/articles/s41746-018-0074-9\n",
    "def remove_artifacts_and_interpolate(df_eda, \n",
    "                     fs, \n",
    "                     pandas_resample_rate,\n",
    "                                     clip_rate,\n",
    "                                     interpolate_method = 'time',\n",
    "                                     z_score = False, \n",
    "                     min_eda_value = 0.035, \n",
    "                     ratio_good_values = 0.9, \n",
    "                     window_size_in_seconds = 5, \n",
    "                     max_increased_eda_ratio = 1.2, \n",
    "                     max_decreased_eda_ratio = 0.9):\n",
    "\n",
    "    # window_size = int(fs * window_size_in_seconds)\n",
    "    # window_size_half_sec = int(fs * 0.5)\n",
    "    # min_samples_above_threshold_in_each_window = ratio_good_values * window_size\n",
    "    \n",
    "    #######remove values below threshold\n",
    "    # calculate rolling window sum\n",
    "    # print('Calculating rolling sum')\n",
    "    # df_eda['eda_above_min_threashold'] = 0\n",
    "    # df_eda.loc[df_eda['eda'] > min_eda_value, 'eda_above_min_threashold'] = 1\n",
    "    # df_eda['window_samples_above_threshold'] = df_eda['eda_above_min_threashold'].rolling('5s').sum()\n",
    "    # # keep only values < max threshold\n",
    "    # df_eda.loc[df_eda['window_samples_above_threshold'] > min_samples_above_threshold_5sec,'eda_above_min_threashold'] = np.nan\n",
    "    # df_eda['eda_above_min_threashold'].fillna(method = 'bfill', inplace = True, limit = window_size_5sec )\n",
    "    \n",
    "    #######remove values with increasing slope > 10%\n",
    "    # df_eda['eda_increased_from_previous_max'] = df_eda.eda.shift() \n",
    "    # df_eda['eda_increased_from_previous_max'] = df_eda['eda_increased_from_previous_max'].multiply(max_increased_eda_ratio)\n",
    "    # df_eda['eda_increased_above_threshold'] = df_eda.eda - df_eda.eda_increased_from_previous_max\n",
    "    # df_eda.loc[df_eda['eda_increased_above_threshold'] <= 0, 'eda_increased_above_threshold'] = np.nan\n",
    "    # df_eda['eda_increased_above_threshold'].fillna(method='bfill', inplace=True, limit=window_size_half_sec)\n",
    "    # df_eda['eda_increased_above_threshold'].fillna(method='ffill', inplace=True, limit=window_size_half_sec)\n",
    "    \n",
    "    #######remove values with decrease slope > 10%\n",
    "    # df_eda['eda_decreased_from_previous_max'] = df_eda.eda.shift() \n",
    "    # df_eda['eda_decreased_from_previous_max'] = df_eda['eda_decreased_from_previous_max'].multiply(max_decreased_eda_ratio)\n",
    "    # df_eda['eda_decreased_above_threshold'] = df_eda.eda - df_eda.eda_decreased_from_previous_max\n",
    "    # df_eda.loc[df_eda['eda_decreased_above_threshold'] >= 0, 'eda_decreased_above_threshold'] = np.nan\n",
    "    # df_eda['eda_decreased_above_threshold'].fillna(method='bfill', inplace=True, limit=window_size_half_sec)\n",
    "    # df_eda['eda_decreased_above_threshold'].fillna(method='ffill', inplace=True, limit=window_size_half_sec)\n",
    "    \n",
    "    ####keep clean signal####\n",
    "#     df_eda_clean_signal = df_eda.loc[(df_eda.eda_decreased_above_threshold.isna()) \n",
    "#                                      & (df_eda.eda_increased_above_threshold.isna()) \n",
    "#                                      & (df_eda.eda_above_min_threashold.isna())]\n",
    "    \n",
    "#     df_eda_clean_signal_eda_column = df_eda_clean_signal[['eda']]\n",
    "#     print('finished slicing EDA column')\n",
    "#     return df_eda_clean_signal_eda_column\n",
    "\n",
    "    # df_eda = df_eda[(df_eda.eda_decreased_above_threshold.isna()) & (df_eda.eda_increased_above_threshold.isna())]\n",
    "    # df_eda_without_artifacts = df_eda[['eda']].resample(pandas_resample_rate).mean()\n",
    "    \n",
    "    # df_eda_without_artifacts = df_eda.resample(pandas_resample_rate).interpolate(method=interpolate_method)\n",
    "    \n",
    "    df_eda_without_artifacts = df_eda.resample(pandas_resample_rate).mean()\n",
    "    \n",
    "    df_eda_without_artifacts['hour'] = df_eda_without_artifacts.index.to_series().apply(lambda x : x.hour)    \n",
    "    df_eda_without_artifacts['eda'] = df_eda_without_artifacts.groupby('hour', group_keys=False)['eda'].apply(lambda x: x.fillna(x.mean()))\n",
    "    \n",
    "    # df_eda_without_artifacts.fillna(df_eda_without_artifacts['eda'].median(), inplace=True)\n",
    "        \n",
    "    if clip_rate > 0:\n",
    "        upper_quantile = df_eda_without_artifacts['eda'].quantile(clip_rate)\n",
    "        print(upper_quantile)\n",
    "        df_eda_without_artifacts.loc[df_eda_without_artifacts['eda'] >= upper_quantile, 'eda'] = upper_quantile\n",
    "    \n",
    "    if z_score:\n",
    "        print('z-scored')\n",
    "        df_eda_without_artifacts['eda'] = zscore(df_eda_without_artifacts['eda'])\n",
    "        \n",
    "\n",
    "    # df_eda_without_artifacts.index = df_eda_without_artifacts.index.strftime('%m/%d/%Y')\n",
    "    df_eda_without_artifacts.rename(columns={\"eda\": \"interpolated_eda\"}, inplace = True)\n",
    "    return df_eda_without_artifacts"
   ]
  },
  {
   "cell_type": "code",
   "execution_count": 8,
   "id": "941eeb80-28d6-49d4-afa8-6cb7935278bd",
   "metadata": {},
   "outputs": [
    {
     "name": "stdout",
     "output_type": "stream",
     "text": [
      "3.307328\n"
     ]
    }
   ],
   "source": [
    "df_eda_without_artifacts = remove_artifacts_and_interpolate(df_eda = df_eda, \n",
    "                                            fs = FS, \n",
    "                                            pandas_resample_rate = PANDAS_RESAMPLE_RATE, \n",
    "                                                           clip_rate = 0.995)"
   ]
  },
  {
   "cell_type": "code",
   "execution_count": 9,
   "id": "a8b7c839-7242-4c9f-89af-1ca65ec9c032",
   "metadata": {
    "tags": []
   },
   "outputs": [],
   "source": [
    "# plot_signal(df_eda = df_eda_without_artifacts, \n",
    "#             label = 'interpolated_eda',\n",
    "#             fs = FS)"
   ]
  },
  {
   "cell_type": "code",
   "execution_count": 10,
   "id": "ba621878-b510-40f1-92d0-fba07be4f7b0",
   "metadata": {},
   "outputs": [],
   "source": [
    "def apply_fir(eda: np.ndarray,\n",
    "              fs,\n",
    "              cutoff,\n",
    "              filter_type, # bandpass, lowpass, highpass, bandstop\n",
    "              transition_band,\n",
    "              window) -> np.ndarray:\n",
    "    \n",
    "    if window == 'hann' or window == 'hamming' or window == 'bartlett':\n",
    "        M = int(4 * fs / transition_band)\n",
    "    elif window == 'blackman':\n",
    "        M = int(6 * fs / transition_band)\n",
    "    else:\n",
    "        raise ValueError('Length estimation for this window not implemented')\n",
    "        \n",
    "    # print('Using ' + window + ' window for ' + filter_type + ' FIR filter.')\n",
    "    h = signal.firwin(numtaps = M, \n",
    "                      cutoff = cutoff,\n",
    "                      fs = fs,\n",
    "                      pass_zero = filter_type,\n",
    "                      window = window)\n",
    "    \n",
    "    eda = np.squeeze(eda)\n",
    "    return signal.lfilter(h, [1.0], eda) \n",
    "    # return signal.filtfilt(h, [1.0], eda) # avoid phase shift of single filter"
   ]
  },
  {
   "cell_type": "code",
   "execution_count": 11,
   "id": "cd50e8b9-5d38-4033-9ce0-2f1b15a6d008",
   "metadata": {},
   "outputs": [],
   "source": [
    "df_eda_without_artifacts['low_passed_eda'] = apply_fir(eda = df_eda_without_artifacts['interpolated_eda'].to_numpy(), \n",
    "                                     fs = FS, \n",
    "                                     cutoff = 1, \n",
    "                                     transition_band = 1,\n",
    "                                     filter_type = 'lowpass', \n",
    "                                     window = 'hamming')"
   ]
  },
  {
   "cell_type": "code",
   "execution_count": 12,
   "id": "e032675f-d108-4961-8c3b-78d5d1ac3e84",
   "metadata": {},
   "outputs": [],
   "source": [
    "# plot_signal(df_eda = df_eda_without_artifacts, \n",
    "#             label = 'low_passed_eda',\n",
    "#             fs = FS)"
   ]
  },
  {
   "cell_type": "code",
   "execution_count": 13,
   "id": "9718f303-95a4-41ca-b84f-db8f838a0254",
   "metadata": {},
   "outputs": [],
   "source": [
    "def morlet_wavelet(eda: np.ndarray, \n",
    "                   fs, \n",
    "                   freq_arr, \n",
    "                   w = 6):\n",
    "    \n",
    "    widths = w * fs / (2 * freq_arr * np.pi)\n",
    "    cwtm = signal.cwt(eda, signal.morlet2, widths, w = w)\n",
    "    \n",
    "    return np.abs(cwtm)\n"
   ]
  },
  {
   "cell_type": "code",
   "execution_count": 14,
   "id": "e49e7893-7df7-4933-843e-323d1d7cec57",
   "metadata": {},
   "outputs": [],
   "source": [
    "cwt_matrix = morlet_wavelet(eda = df_eda_without_artifacts['low_passed_eda'].to_numpy(), \n",
    "                            fs = FS, \n",
    "                            freq_arr = FREQ_ARRAY)\n",
    "\n",
    "for idx, name in enumerate(FREQ_NAMES):\n",
    "    df_eda_without_artifacts[name] = cwt_matrix[idx, :]\n",
    "    "
   ]
  },
  {
   "cell_type": "code",
   "execution_count": 5,
   "id": "0eb2d9c6-d7af-40ba-a9be-bac79b3a2459",
   "metadata": {},
   "outputs": [],
   "source": [
    "def plot_morlet(df_eda, \n",
    "                freq_names, \n",
    "                freq_arr, \n",
    "                tick_freq):\n",
    "\n",
    "    resampled_df = df_eda[freq_names].resample(tick_freq).mean()\n",
    "    cwtm = resampled_df.to_numpy().T # (len(freq_list), len(t))\n",
    "    \n",
    "    tick_freq_dict = {'T':60*24*7, 'H':24*7, 'D':7, 'W':1}\n",
    "    t = resampled_df.index.to_series()\n",
    "    xtick_freq = tick_freq_dict[tick_freq]\n",
    "    \n",
    "    fig, ax = plt.subplots(figsize=(15, 3)) \n",
    "    sns.heatmap(cwtm, \n",
    "                # center=0, \n",
    "                # cmap=\"vlag\", \n",
    "                norm=LogNorm(vmin=cwtm.min(), vmax=cwtm.max()),\n",
    "                ax=ax)\n",
    "    \n",
    "    ax.set_xticks(np.arange(len(t))[::xtick_freq], t[::xtick_freq], rotation='vertical')\n",
    "    ax.set_yticks(np.arange(len(freq_names))+0.5, freq_names, rotation='horizontal')\n"
   ]
  },
  {
   "cell_type": "code",
   "execution_count": 8,
   "id": "d91ddd97-e7c7-42fe-8122-ea5df01e0ad3",
   "metadata": {},
   "outputs": [
    {
     "data": {
      "image/png": "[encoded data removed]",
      "text/plain": [
       "<Figure size 1500x300 with 2 Axes>"
      ]
     },
     "metadata": {},
     "output_type": "display_data"
    }
   ],
   "source": [
    "retrieved = pd.read_hdf('cwt_data/SP1_cwt.h5', 'df')\n",
    "\n",
    "plot_morlet(df_eda = retrieved, \n",
    "            freq_names = FREQ_NAMES, \n",
    "            freq_arr = FREQ_ARRAY, \n",
    "            tick_freq = 'T')"
   ]
  },
  {
   "cell_type": "code",
   "execution_count": null,
   "id": "06f92bd3-c567-499b-93da-4e1c8e2263ae",
   "metadata": {},
   "outputs": [],
   "source": []
  }
 ],
 "metadata": {
  "kernelspec": {
   "display_name": "sensecode",
   "language": "python",
   "name": "sensecode"
  },
  "language_info": {
   "codemirror_mode": {
    "name": "ipython",
    "version": 3
   },
   "file_extension": ".py",
   "mimetype": "text/x-python",
   "name": "python",
   "nbconvert_exporter": "python",
   "pygments_lexer": "ipython3",
   "version": "3.11.0"
  }
 },
 "nbformat": 4,
 "nbformat_minor": 5
}
